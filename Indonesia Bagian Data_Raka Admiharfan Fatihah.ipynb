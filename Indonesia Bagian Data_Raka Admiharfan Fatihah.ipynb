{
  "cells": [
    {
      "cell_type": "markdown",
      "metadata": {
        "id": "KC5EqU0v47jE"
      },
      "source": [
        "Indonesia Bagian Data:\n",
        "1. Amjad Adhie\n",
        "2. Iskandar Muda\n",
        "3. Raka Admiharfan Fatihah"
      ]
    },
    {
      "cell_type": "markdown",
      "metadata": {
        "id": "BU_iGnMc47jO"
      },
      "source": [
        "Import Library"
      ]
    },
    {
      "cell_type": "code",
      "execution_count": 237,
      "metadata": {
        "id": "FQln-kmo47jR"
      },
      "outputs": [],
      "source": [
        "import numpy as np\n",
        "import pandas as pd\n",
        "import matplotlib.pyplot as plt\n",
        "import seaborn as sns\n",
        "import sklearn as sk\n",
        "import tensorflow as tf\n"
      ]
    },
    {
      "cell_type": "markdown",
      "metadata": {
        "id": "w1cHxqKJ47jd"
      },
      "source": [
        "Dataset"
      ]
    },
    {
      "cell_type": "code",
      "execution_count": 238,
      "metadata": {
        "colab": {
          "base_uri": "https://localhost:8080/",
          "height": 226
        },
        "id": "1eUJq7Cc47jf",
        "outputId": "341fc6db-0fe6-4836-bc56-4c9417a95222"
      },
      "outputs": [
        {
          "data": {
            "text/html": [
              "<div>\n",
              "<style scoped>\n",
              "    .dataframe tbody tr th:only-of-type {\n",
              "        vertical-align: middle;\n",
              "    }\n",
              "\n",
              "    .dataframe tbody tr th {\n",
              "        vertical-align: top;\n",
              "    }\n",
              "\n",
              "    .dataframe thead th {\n",
              "        text-align: right;\n",
              "    }\n",
              "</style>\n",
              "<table border=\"1\" class=\"dataframe\">\n",
              "  <thead>\n",
              "    <tr style=\"text-align: right;\">\n",
              "      <th></th>\n",
              "      <th>ID</th>\n",
              "      <th>tahun_kelahiran</th>\n",
              "      <th>pendidikan</th>\n",
              "      <th>status_pernikahan</th>\n",
              "      <th>pendapatan</th>\n",
              "      <th>jumlah_anak_balita</th>\n",
              "      <th>jumlah_anak_remaja</th>\n",
              "      <th>terakhir_belanja</th>\n",
              "      <th>belanja_buah</th>\n",
              "      <th>belanja_daging</th>\n",
              "      <th>belanja_ikan</th>\n",
              "      <th>belanja_kue</th>\n",
              "      <th>pembelian_diskon</th>\n",
              "      <th>pembelian_web</th>\n",
              "      <th>pembelian_toko</th>\n",
              "      <th>keluhan</th>\n",
              "      <th>tanggal_menjadi_anggota</th>\n",
              "    </tr>\n",
              "  </thead>\n",
              "  <tbody>\n",
              "    <tr>\n",
              "      <th>0</th>\n",
              "      <td>0</td>\n",
              "      <td>1979</td>\n",
              "      <td>Sarjana</td>\n",
              "      <td>Rencana Menikah</td>\n",
              "      <td>NaN</td>\n",
              "      <td>0.0</td>\n",
              "      <td>1.0</td>\n",
              "      <td>NaN</td>\n",
              "      <td>50575.0</td>\n",
              "      <td>260967.0</td>\n",
              "      <td>50575.0</td>\n",
              "      <td>20230.0</td>\n",
              "      <td>2.0</td>\n",
              "      <td>2.0</td>\n",
              "      <td>5.0</td>\n",
              "      <td>0.0</td>\n",
              "      <td>2014-05-05</td>\n",
              "    </tr>\n",
              "    <tr>\n",
              "      <th>1</th>\n",
              "      <td>0</td>\n",
              "      <td>1950</td>\n",
              "      <td>Sarjana</td>\n",
              "      <td>Rencana Menikah</td>\n",
              "      <td>84063000.0</td>\n",
              "      <td>NaN</td>\n",
              "      <td>NaN</td>\n",
              "      <td>70.0</td>\n",
              "      <td>6069.0</td>\n",
              "      <td>44506.0</td>\n",
              "      <td>80920.0</td>\n",
              "      <td>20230.0</td>\n",
              "      <td>9.0</td>\n",
              "      <td>6.0</td>\n",
              "      <td>4.0</td>\n",
              "      <td>0.0</td>\n",
              "      <td>2013-03-17</td>\n",
              "    </tr>\n",
              "    <tr>\n",
              "      <th>2</th>\n",
              "      <td>0</td>\n",
              "      <td>1966</td>\n",
              "      <td>Sarjana</td>\n",
              "      <td>Menikah</td>\n",
              "      <td>127532564.0</td>\n",
              "      <td>0.0</td>\n",
              "      <td>0.0</td>\n",
              "      <td>45.0</td>\n",
              "      <td>117611.0</td>\n",
              "      <td>265460.0</td>\n",
              "      <td>96341.0</td>\n",
              "      <td>145573.0</td>\n",
              "      <td>1.0</td>\n",
              "      <td>1.0</td>\n",
              "      <td>7.0</td>\n",
              "      <td>0.0</td>\n",
              "      <td>NaN</td>\n",
              "    </tr>\n",
              "    <tr>\n",
              "      <th>3</th>\n",
              "      <td>0</td>\n",
              "      <td>1961</td>\n",
              "      <td>Magister</td>\n",
              "      <td>Rencana Menikah</td>\n",
              "      <td>165579620.0</td>\n",
              "      <td>0.0</td>\n",
              "      <td>0.0</td>\n",
              "      <td>90.0</td>\n",
              "      <td>206346.0</td>\n",
              "      <td>1613901.0</td>\n",
              "      <td>27725.0</td>\n",
              "      <td>125868.0</td>\n",
              "      <td>0.0</td>\n",
              "      <td>7.0</td>\n",
              "      <td>8.0</td>\n",
              "      <td>0.0</td>\n",
              "      <td>NaN</td>\n",
              "    </tr>\n",
              "    <tr>\n",
              "      <th>4</th>\n",
              "      <td>0</td>\n",
              "      <td>1970</td>\n",
              "      <td>Sarjana</td>\n",
              "      <td>Rencana Menikah</td>\n",
              "      <td>117703159.0</td>\n",
              "      <td>1.0</td>\n",
              "      <td>1.0</td>\n",
              "      <td>78.0</td>\n",
              "      <td>90563.0</td>\n",
              "      <td>311757.0</td>\n",
              "      <td>40358.0</td>\n",
              "      <td>33875.0</td>\n",
              "      <td>7.0</td>\n",
              "      <td>6.0</td>\n",
              "      <td>5.0</td>\n",
              "      <td>0.0</td>\n",
              "      <td>NaN</td>\n",
              "    </tr>\n",
              "  </tbody>\n",
              "</table>\n",
              "</div>"
            ],
            "text/plain": [
              "   ID  tahun_kelahiran pendidikan status_pernikahan   pendapatan  \\\n",
              "0   0             1979    Sarjana   Rencana Menikah          NaN   \n",
              "1   0             1950    Sarjana   Rencana Menikah   84063000.0   \n",
              "2   0             1966    Sarjana           Menikah  127532564.0   \n",
              "3   0             1961   Magister   Rencana Menikah  165579620.0   \n",
              "4   0             1970    Sarjana   Rencana Menikah  117703159.0   \n",
              "\n",
              "   jumlah_anak_balita  jumlah_anak_remaja  terakhir_belanja  belanja_buah  \\\n",
              "0                 0.0                 1.0               NaN       50575.0   \n",
              "1                 NaN                 NaN              70.0        6069.0   \n",
              "2                 0.0                 0.0              45.0      117611.0   \n",
              "3                 0.0                 0.0              90.0      206346.0   \n",
              "4                 1.0                 1.0              78.0       90563.0   \n",
              "\n",
              "   belanja_daging  belanja_ikan  belanja_kue  pembelian_diskon  pembelian_web  \\\n",
              "0        260967.0       50575.0      20230.0               2.0            2.0   \n",
              "1         44506.0       80920.0      20230.0               9.0            6.0   \n",
              "2        265460.0       96341.0     145573.0               1.0            1.0   \n",
              "3       1613901.0       27725.0     125868.0               0.0            7.0   \n",
              "4        311757.0       40358.0      33875.0               7.0            6.0   \n",
              "\n",
              "   pembelian_toko  keluhan tanggal_menjadi_anggota  \n",
              "0             5.0      0.0              2014-05-05  \n",
              "1             4.0      0.0              2013-03-17  \n",
              "2             7.0      0.0                     NaN  \n",
              "3             8.0      0.0                     NaN  \n",
              "4             5.0      0.0                     NaN  "
            ]
          },
          "execution_count": 238,
          "metadata": {},
          "output_type": "execute_result"
        }
      ],
      "source": [
        "train = pd.read_csv('train_features.csv')\n",
        "train.insert(0, 'ID', 0)\n",
        "train.head()"
      ]
    },
    {
      "cell_type": "code",
      "execution_count": 239,
      "metadata": {
        "colab": {
          "base_uri": "https://localhost:8080/",
          "height": 226
        },
        "id": "J217FECt47jm",
        "outputId": "014e25c5-31f5-43d7-a42f-8b57801eb53e"
      },
      "outputs": [
        {
          "data": {
            "text/html": [
              "<div>\n",
              "<style scoped>\n",
              "    .dataframe tbody tr th:only-of-type {\n",
              "        vertical-align: middle;\n",
              "    }\n",
              "\n",
              "    .dataframe tbody tr th {\n",
              "        vertical-align: top;\n",
              "    }\n",
              "\n",
              "    .dataframe thead th {\n",
              "        text-align: right;\n",
              "    }\n",
              "</style>\n",
              "<table border=\"1\" class=\"dataframe\">\n",
              "  <thead>\n",
              "    <tr style=\"text-align: right;\">\n",
              "      <th></th>\n",
              "      <th>ID</th>\n",
              "      <th>tahun_kelahiran</th>\n",
              "      <th>pendidikan</th>\n",
              "      <th>status_pernikahan</th>\n",
              "      <th>pendapatan</th>\n",
              "      <th>jumlah_anak_balita</th>\n",
              "      <th>jumlah_anak_remaja</th>\n",
              "      <th>terakhir_belanja</th>\n",
              "      <th>belanja_buah</th>\n",
              "      <th>belanja_daging</th>\n",
              "      <th>belanja_ikan</th>\n",
              "      <th>belanja_kue</th>\n",
              "      <th>pembelian_diskon</th>\n",
              "      <th>pembelian_web</th>\n",
              "      <th>pembelian_toko</th>\n",
              "      <th>keluhan</th>\n",
              "      <th>tanggal_menjadi_anggota</th>\n",
              "    </tr>\n",
              "  </thead>\n",
              "  <tbody>\n",
              "    <tr>\n",
              "      <th>0</th>\n",
              "      <td>2241</td>\n",
              "      <td>1957</td>\n",
              "      <td>Sarjana</td>\n",
              "      <td>NaN</td>\n",
              "      <td>120660151.0</td>\n",
              "      <td>0.0</td>\n",
              "      <td>1.0</td>\n",
              "      <td>63.0</td>\n",
              "      <td>122277.0</td>\n",
              "      <td>541399.0</td>\n",
              "      <td>214192.0</td>\n",
              "      <td>84305.0</td>\n",
              "      <td>4.0</td>\n",
              "      <td>6.0</td>\n",
              "      <td>10.0</td>\n",
              "      <td>0.0</td>\n",
              "      <td>NaN</td>\n",
              "    </tr>\n",
              "    <tr>\n",
              "      <th>1</th>\n",
              "      <td>2274</td>\n",
              "      <td>1968</td>\n",
              "      <td>Doktor</td>\n",
              "      <td>Menikah</td>\n",
              "      <td>163551821.0</td>\n",
              "      <td>0.0</td>\n",
              "      <td>1.0</td>\n",
              "      <td>58.0</td>\n",
              "      <td>35761.0</td>\n",
              "      <td>353335.0</td>\n",
              "      <td>63365.0</td>\n",
              "      <td>41112.0</td>\n",
              "      <td>2.0</td>\n",
              "      <td>5.0</td>\n",
              "      <td>10.0</td>\n",
              "      <td>0.0</td>\n",
              "      <td>NaN</td>\n",
              "    </tr>\n",
              "    <tr>\n",
              "      <th>2</th>\n",
              "      <td>1107</td>\n",
              "      <td>1968</td>\n",
              "      <td>SMA</td>\n",
              "      <td>Menikah</td>\n",
              "      <td>29857000.0</td>\n",
              "      <td>0.0</td>\n",
              "      <td>0.0</td>\n",
              "      <td>34.0</td>\n",
              "      <td>8092.0</td>\n",
              "      <td>22253.0</td>\n",
              "      <td>30345.0</td>\n",
              "      <td>26299.0</td>\n",
              "      <td>2.0</td>\n",
              "      <td>0.0</td>\n",
              "      <td>5.0</td>\n",
              "      <td>0.0</td>\n",
              "      <td>2013-08-06</td>\n",
              "    </tr>\n",
              "    <tr>\n",
              "      <th>3</th>\n",
              "      <td>4478</td>\n",
              "      <td>1971</td>\n",
              "      <td>Doktor</td>\n",
              "      <td>Menikah</td>\n",
              "      <td>117949098.0</td>\n",
              "      <td>0.0</td>\n",
              "      <td>1.0</td>\n",
              "      <td>82.0</td>\n",
              "      <td>4872.0</td>\n",
              "      <td>126061.0</td>\n",
              "      <td>0.0</td>\n",
              "      <td>9745.0</td>\n",
              "      <td>3.0</td>\n",
              "      <td>5.0</td>\n",
              "      <td>7.0</td>\n",
              "      <td>0.0</td>\n",
              "      <td>NaN</td>\n",
              "    </tr>\n",
              "    <tr>\n",
              "      <th>4</th>\n",
              "      <td>5080</td>\n",
              "      <td>1974</td>\n",
              "      <td>Sarjana</td>\n",
              "      <td>Rencana Menikah</td>\n",
              "      <td>164761134.0</td>\n",
              "      <td>0.0</td>\n",
              "      <td>0.0</td>\n",
              "      <td>28.0</td>\n",
              "      <td>343208.0</td>\n",
              "      <td>1416462.0</td>\n",
              "      <td>236196.0</td>\n",
              "      <td>107776.0</td>\n",
              "      <td>0.0</td>\n",
              "      <td>1.0</td>\n",
              "      <td>8.0</td>\n",
              "      <td>0.0</td>\n",
              "      <td>NaN</td>\n",
              "    </tr>\n",
              "  </tbody>\n",
              "</table>\n",
              "</div>"
            ],
            "text/plain": [
              "     ID  tahun_kelahiran pendidikan status_pernikahan   pendapatan  \\\n",
              "0  2241             1957    Sarjana               NaN  120660151.0   \n",
              "1  2274             1968     Doktor           Menikah  163551821.0   \n",
              "2  1107             1968        SMA           Menikah   29857000.0   \n",
              "3  4478             1971     Doktor           Menikah  117949098.0   \n",
              "4  5080             1974    Sarjana   Rencana Menikah  164761134.0   \n",
              "\n",
              "   jumlah_anak_balita  jumlah_anak_remaja  terakhir_belanja  belanja_buah  \\\n",
              "0                 0.0                 1.0              63.0      122277.0   \n",
              "1                 0.0                 1.0              58.0       35761.0   \n",
              "2                 0.0                 0.0              34.0        8092.0   \n",
              "3                 0.0                 1.0              82.0        4872.0   \n",
              "4                 0.0                 0.0              28.0      343208.0   \n",
              "\n",
              "   belanja_daging  belanja_ikan  belanja_kue  pembelian_diskon  pembelian_web  \\\n",
              "0        541399.0      214192.0      84305.0               4.0            6.0   \n",
              "1        353335.0       63365.0      41112.0               2.0            5.0   \n",
              "2         22253.0       30345.0      26299.0               2.0            0.0   \n",
              "3        126061.0           0.0       9745.0               3.0            5.0   \n",
              "4       1416462.0      236196.0     107776.0               0.0            1.0   \n",
              "\n",
              "   pembelian_toko  keluhan tanggal_menjadi_anggota  \n",
              "0            10.0      0.0                     NaN  \n",
              "1            10.0      0.0                     NaN  \n",
              "2             5.0      0.0              2013-08-06  \n",
              "3             7.0      0.0                     NaN  \n",
              "4             8.0      0.0                     NaN  "
            ]
          },
          "execution_count": 239,
          "metadata": {},
          "output_type": "execute_result"
        }
      ],
      "source": [
        "test_set = pd.read_csv('test_features.csv')\n",
        "test_set.head()"
      ]
    },
    {
      "cell_type": "code",
      "execution_count": 240,
      "metadata": {
        "colab": {
          "base_uri": "https://localhost:8080/",
          "height": 206
        },
        "id": "1yCYmpKh47jt",
        "outputId": "5f2ee109-097f-4d0d-e253-4acb09a50222"
      },
      "outputs": [
        {
          "data": {
            "text/html": [
              "<div>\n",
              "<style scoped>\n",
              "    .dataframe tbody tr th:only-of-type {\n",
              "        vertical-align: middle;\n",
              "    }\n",
              "\n",
              "    .dataframe tbody tr th {\n",
              "        vertical-align: top;\n",
              "    }\n",
              "\n",
              "    .dataframe thead th {\n",
              "        text-align: right;\n",
              "    }\n",
              "</style>\n",
              "<table border=\"1\" class=\"dataframe\">\n",
              "  <thead>\n",
              "    <tr style=\"text-align: right;\">\n",
              "      <th></th>\n",
              "      <th>jumlah_promosi</th>\n",
              "    </tr>\n",
              "  </thead>\n",
              "  <tbody>\n",
              "    <tr>\n",
              "      <th>0</th>\n",
              "      <td>2</td>\n",
              "    </tr>\n",
              "    <tr>\n",
              "      <th>1</th>\n",
              "      <td>0</td>\n",
              "    </tr>\n",
              "    <tr>\n",
              "      <th>2</th>\n",
              "      <td>1</td>\n",
              "    </tr>\n",
              "    <tr>\n",
              "      <th>3</th>\n",
              "      <td>4</td>\n",
              "    </tr>\n",
              "    <tr>\n",
              "      <th>4</th>\n",
              "      <td>4</td>\n",
              "    </tr>\n",
              "  </tbody>\n",
              "</table>\n",
              "</div>"
            ],
            "text/plain": [
              "   jumlah_promosi\n",
              "0               2\n",
              "1               0\n",
              "2               1\n",
              "3               4\n",
              "4               4"
            ]
          },
          "execution_count": 240,
          "metadata": {},
          "output_type": "execute_result"
        }
      ],
      "source": [
        "label = pd.read_csv('train_labels.csv')\n",
        "label.head()"
      ]
    },
    {
      "cell_type": "code",
      "execution_count": 241,
      "metadata": {
        "id": "wG-XmXRX47jv"
      },
      "outputs": [],
      "source": [
        "# Menggabungkan data train dan label\n",
        "train_set = train.join(label)"
      ]
    },
    {
      "cell_type": "markdown",
      "metadata": {
        "id": "Xdke3zCG47jw"
      },
      "source": [
        "# EDA (Exploratory Data Analysis)"
      ]
    },
    {
      "cell_type": "code",
      "execution_count": 242,
      "metadata": {
        "colab": {
          "base_uri": "https://localhost:8080/"
        },
        "id": "6bhYbaHv47jx",
        "outputId": "60c1a070-fe67-4981-f19b-fe366c74eb26"
      },
      "outputs": [
        {
          "data": {
            "text/plain": [
              "ID                            0\n",
              "tahun_kelahiran               0\n",
              "pendidikan                  189\n",
              "status_pernikahan           212\n",
              "pendapatan                  190\n",
              "jumlah_anak_balita          190\n",
              "jumlah_anak_remaja          204\n",
              "terakhir_belanja            172\n",
              "belanja_buah                181\n",
              "belanja_daging              178\n",
              "belanja_ikan                193\n",
              "belanja_kue                 214\n",
              "pembelian_diskon            178\n",
              "pembelian_web               165\n",
              "pembelian_toko              169\n",
              "keluhan                     196\n",
              "tanggal_menjadi_anggota    2752\n",
              "jumlah_promosi                0\n",
              "dtype: int64"
            ]
          },
          "execution_count": 242,
          "metadata": {},
          "output_type": "execute_result"
        }
      ],
      "source": [
        "# memeriksa setiap kolom dari data train yang kosong\n",
        "train_set.isnull().sum()"
      ]
    },
    {
      "cell_type": "code",
      "execution_count": 243,
      "metadata": {
        "colab": {
          "base_uri": "https://localhost:8080/"
        },
        "id": "jOiOvSGjF-dB",
        "outputId": "c6ed6cc8-9aa8-4efc-8154-74666d83a234"
      },
      "outputs": [
        {
          "data": {
            "text/plain": [
              "array(['Sarjana', 'Magister', 'SMA', 'SMP', 'Doktor', nan, '5'],\n",
              "      dtype=object)"
            ]
          },
          "execution_count": 243,
          "metadata": {},
          "output_type": "execute_result"
        }
      ],
      "source": [
        "train_set['pendidikan'].unique()"
      ]
    },
    {
      "cell_type": "code",
      "execution_count": 244,
      "metadata": {
        "colab": {
          "base_uri": "https://localhost:8080/"
        },
        "id": "tkHzo-TtGIJ-",
        "outputId": "fa0bf16e-fb73-477c-c659-a944cf05016b"
      },
      "outputs": [
        {
          "name": "stdout",
          "output_type": "stream",
          "text": [
            "Kolom Non-Numerik: Index(['pendidikan', 'status_pernikahan', 'tanggal_menjadi_anggota'], dtype='object')\n",
            "Nilai Unik untuk Kolom pendidikan : ['Sarjana' 'Magister' 'SMA' 'SMP' 'Doktor' nan '5']\n",
            "Nilai Unik untuk Kolom status_pernikahan : ['Rencana Menikah' 'Menikah' 'Sendiri' 'Cerai' nan 'Cerai Mati' '5']\n",
            "Nilai Unik untuk Kolom tanggal_menjadi_anggota : ['2014-05-05' '2013-03-17' nan '2013-05-03' '2013-11-21' '2012-11-14'\n",
            " '2013-06-23' '2012-10-06' '2013-02-11' '2014-03-28' '2012-11-10'\n",
            " '2013-05-02' '2013-01-18' '2014-01-10' '2014-03-14' '2014-02-18'\n",
            " '2013-07-06' '2014-02-27' '2014-01-25' '2013-07-05' '2013-05-08'\n",
            " '2013-03-30' '2014-06-11' '2013-03-31' '2012-11-06' '2013-04-14'\n",
            " '2013-03-12' '2013-05-31' '2013-05-17' '2012-09-13' '2013-09-12'\n",
            " '2014-05-14' '2014-05-09' '2013-10-15' '2013-09-06' '2012-12-10'\n",
            " '2013-04-13' '2014-03-17' '2013-08-08' '2012-08-19' '2013-01-16'\n",
            " '2014-05-23' '2013-03-29' '2014-06-27' '2012-09-06' '2013-09-02'\n",
            " '2013-02-19' '2013-02-10' '2013-05-26' '2014-03-03' '2013-04-07'\n",
            " '2014-05-26' '2014-01-26' '2013-12-18' '2014-01-21' '2013-08-19'\n",
            " '2013-10-17' '2014-03-20' '2013-07-02' '2013-10-13' '2013-12-27'\n",
            " '2012-11-28' '2012-08-28' '2013-10-01' '2013-04-10' '2013-03-08'\n",
            " '2012-08-06' '2013-10-24' '2013-12-17' '2014-02-25' '2014-05-06'\n",
            " '2013-04-24' '2012-12-25' '2013-08-11' '2012-12-26' '2012-08-25'\n",
            " '2013-12-22' '2013-06-07' '2013-04-29' '2014-05-30' '2013-09-14'\n",
            " '2013-10-21' '2012-10-01' '2013-02-15' '2014-06-26' '2012-09-19'\n",
            " '2013-10-29' '2013-08-15' '2013-09-11' '2013-04-06' '2012-12-03'\n",
            " '2012-09-30' '2013-07-31' '2014-03-11' '2012-07-29' '2014-05-28'\n",
            " '2012-08-20' '2012-10-13' '2013-10-23' '2014-03-07' '2012-11-24'\n",
            " '2014-02-23' '2014-01-24' '2013-01-25' '2014-04-08' '2012-11-12'\n",
            " '2013-10-31' '2013-04-23' '2014-04-11' '2012-08-15' '2013-01-24'\n",
            " '2014-04-02' '2012-10-15' '2013-03-06' '2013-09-21' '2013-09-08'\n",
            " '2013-01-23' '2014-04-04' '2013-04-26' '2013-05-25' '2013-09-29'\n",
            " '2014-04-10' '2014-03-27' '2012-09-01' '2012-10-25' '2014-03-29'\n",
            " '2013-11-18' '2013-06-14' '2014-05-10' '2013-09-30' '2012-08-21'\n",
            " '2013-02-04' '2014-03-31' '2013-02-02' '2012-11-20' '2012-09-23'\n",
            " '2012-08-30' '2013-06-15' '2013-10-11' '2012-11-18' '2013-09-22'\n",
            " '2014-04-27' '2013-03-15' '2013-08-05' '2013-01-01' '2014-04-19'\n",
            " '2013-08-23' '2013-04-30' '2014-04-18' '2014-04-25' '2012-10-17'\n",
            " '2012-10-23' '2013-06-28' '2012-12-08' '2013-03-18' '2012-12-19'\n",
            " '2014-04-21' '2014-06-02' '2014-05-07' '2013-11-03' '2013-10-03'\n",
            " '2013-07-04' '2014-01-23' '2012-09-08' '2014-05-02' '2012-12-16'\n",
            " '2013-05-16' '2013-06-16' '2014-02-08' '2013-12-10' '2013-06-02'\n",
            " '2012-09-09' '2013-07-21' '2013-02-13' '2012-12-20' '2013-12-26'\n",
            " '2013-07-03' '2013-04-01' '2012-11-30' '2014-06-29' '2014-06-18'\n",
            " '2013-05-30' '2013-05-06' '2014-03-21' '2013-05-27' '2013-04-09'\n",
            " '2013-10-30' '2013-11-22' '2014-02-05' '2013-06-22' '2012-09-16'\n",
            " '2013-04-02' '2013-12-21' '2013-01-14' '2014-04-23' '2012-10-03'\n",
            " '2013-11-12' '2013-11-19' '2012-09-21' '2013-07-20' '2012-09-18'\n",
            " '2013-02-27' '2013-02-05' '2013-11-17' '2014-02-10' '2013-06-24'\n",
            " '2014-04-26' '2013-09-04' '2013-04-03' '2012-09-28' '2013-08-17'\n",
            " '2013-12-30' '2013-05-21' '2014-03-10' '2012-12-12' '2013-12-23'\n",
            " '2013-08-03' '2014-03-30' '2013-08-09' '2014-03-18' '2013-01-06'\n",
            " '2012-10-12' '2012-10-14' '2014-03-01' '2013-09-25' '2012-08-05'\n",
            " '2012-08-08' '2014-03-22' '2013-08-06' '2013-08-31' '2013-02-08'\n",
            " '2013-05-11' '2014-01-07' '2014-06-06' '2014-01-29' '2014-05-21'\n",
            " '2013-10-28' '2013-07-23' '2012-12-02' '2014-05-24' '2013-07-29'\n",
            " '2012-11-11' '2013-05-24' '2013-01-07' '2014-01-13' '2014-01-15'\n",
            " '2013-06-21' '2013-09-26' '2013-11-06' '2014-04-14' '2013-07-14'\n",
            " '2014-02-15' '2013-04-05' '2012-08-12' '2014-05-18' '2014-04-06'\n",
            " '2012-10-30' '2013-12-20' '2013-08-04' '2013-10-08' '2012-11-13'\n",
            " '2014-04-05' '2013-12-03' '2012-09-11' '2012-10-26' '2013-01-02'\n",
            " '2013-11-28' '2014-01-28' '2013-11-27' '2012-11-22' '2014-01-31'\n",
            " '2013-03-22' '2013-07-30' '2014-06-28' '2012-10-07' '2013-05-07'\n",
            " '2013-01-28' '2012-10-11' '2014-03-13' '2013-02-18' '2014-04-29'\n",
            " '2013-01-05' '2013-08-21' '2013-10-07' '2014-05-08' '2013-07-12'\n",
            " '2013-05-04' '2012-08-16' '2013-08-16' '2013-05-18' '2012-10-19'\n",
            " '2014-03-09' '2014-02-13' '2013-05-10' '2013-06-01' '2013-05-23'\n",
            " '2013-09-28' '2012-11-23' '2013-11-05' '2013-06-19' '2013-11-24'\n",
            " '2013-10-02' '2013-05-14' '2012-12-31' '2014-05-11' '2014-05-03'\n",
            " '2013-09-03' '2013-11-14' '2012-12-05' '2013-01-10' '2013-01-03'\n",
            " '2014-03-05' '2012-10-31' '2014-05-22' '2012-12-15' '2014-01-30'\n",
            " '2014-02-14' '2012-08-14' '2014-06-24' '2012-09-25' '2013-09-18'\n",
            " '2012-12-21' '2013-06-26' '2012-09-12' '2013-08-28' '2014-01-03'\n",
            " '2014-03-24' '2013-11-23' '2012-09-07' '2014-02-07' '2014-01-05'\n",
            " '2013-03-11' '2013-06-29' '2013-03-25' '2013-05-09' '2013-10-09'\n",
            " '2013-07-10' '2013-04-08' '2013-10-27' '2013-07-08' '2012-08-07'\n",
            " '2014-04-09' '2014-01-02' '2012-12-27' '2014-05-13' '2014-01-09'\n",
            " '2013-03-13' '2013-08-01' '2014-03-15' '2014-03-23' '2014-05-20'\n",
            " '2012-08-27' '2012-11-19' '2013-03-09' '2012-09-14' '2013-01-22'\n",
            " '2012-08-31' '2013-12-14' '2013-02-22' '2013-06-03' '2014-06-20'\n",
            " '2013-12-04' '2013-01-17' '2012-10-18' '2014-02-03' '2013-01-27'\n",
            " '2014-06-25' '2013-02-12' '2013-05-01' '2013-04-15' '2012-09-22'\n",
            " '2013-12-08' '2014-02-01' '2013-10-10' '2013-06-18' '2013-02-16'\n",
            " '2014-01-22' '2013-10-22' '2012-08-10' '2012-08-24' '2014-04-16'\n",
            " '2013-03-16' '2014-02-20' '2013-06-20' '2012-11-21' '2014-05-27'\n",
            " '2012-10-29' '2013-03-05' '2013-12-06' '2014-06-12' '2013-04-22'\n",
            " '2012-10-02' '2013-12-01' '2013-08-24' '2013-03-27' '2013-03-26'\n",
            " '2013-06-04' '2013-03-19' '2014-02-21' '2014-04-24' '2013-12-07'\n",
            " '2013-03-01' '2013-01-12' '2014-01-20' '2013-09-19' '2012-11-09'\n",
            " '2012-10-05' '2013-08-20' '2013-09-07' '2013-05-19' '2012-10-04'\n",
            " '2014-03-02' '2014-02-16' '2014-06-03' '2013-11-09' '2013-02-06'\n",
            " '2013-05-20' '2013-03-20' '2013-02-09' '2014-05-16' '2013-09-20'\n",
            " '2012-09-26' '2013-08-14' '2013-10-12' '2013-01-08' '2012-11-01'\n",
            " '2012-07-31' '2013-10-04' '2013-04-28' '2012-12-30' '2013-11-07'\n",
            " '2012-08-09' '2013-12-28' '2012-11-29' '2014-02-09' '2013-02-23'\n",
            " '2013-07-13' '2012-10-21' '2013-04-17' '2013-09-10' '2014-06-13'\n",
            " '2013-01-20' '2013-01-30' '2013-12-09' '2013-02-07' '2012-10-09'\n",
            " '2012-10-20' '2014-05-12' '2013-11-16' '2014-04-03' '2014-05-15'\n",
            " '2013-06-30' '2014-04-01' '2013-03-23' '2013-11-26' '2013-07-09'\n",
            " '2013-02-26' '2012-09-03' '2013-07-01' '2012-08-17' '2014-02-11'\n",
            " '2013-10-20' '2013-08-27' '2013-12-19' '2012-12-04' '2013-08-29'\n",
            " '2013-06-06' '2014-06-07' '2013-09-15' '2012-11-17' '2013-01-09'\n",
            " '2013-04-19' '2012-10-08' '2013-01-31' '2013-12-24' '2014-03-26'\n",
            " '2014-01-06' '2013-05-13' '2013-03-10' '2013-11-11' '2012-09-05'\n",
            " '2014-06-01' '2014-06-21' '2013-04-11' '2013-03-28' '2012-08-26'\n",
            " '2014-06-19' '2013-01-26' '2013-09-01' '2013-07-24' '2013-05-15'\n",
            " '2014-03-12' '2013-10-05' '2013-07-26' '2013-07-11' '2014-04-28'\n",
            " '2013-11-29' '2014-06-10' '2013-12-13' '2012-12-01' '2013-07-15'\n",
            " '2014-03-06' '2012-11-03' '2012-10-10' '2013-05-12' '2013-12-05'\n",
            " '2014-02-28' '2013-01-11' '2013-02-17' '2014-03-04' '2012-11-15'\n",
            " '2013-10-19' '2013-10-25' '2012-08-29' '2013-02-20' '2014-05-04'\n",
            " '2013-12-31' '2014-04-17' '2013-02-01' '2012-12-09' '2012-11-05'\n",
            " '2012-08-18' '2014-02-26' '2012-11-25' '2012-10-16' '2013-08-18'\n",
            " '2013-01-04' '2013-07-25' '2012-10-27' '2013-11-04' '2014-05-25'\n",
            " '2013-09-16' '2014-02-12' '2013-07-07' '2013-04-18' '2013-07-18'\n",
            " '2013-01-29' '2014-01-19' '2014-06-23' '2013-03-21' '2013-02-25'\n",
            " '2013-07-28' '2013-09-13' '2014-06-15' '2014-02-22' '2014-04-22'\n",
            " '2012-09-24' '2012-11-27' '2013-09-17' '2013-01-13' '2013-03-04'\n",
            " '2014-04-07' '2013-02-14' '2012-12-22' '2014-04-30' '2013-11-08'\n",
            " '2013-11-02' '2013-04-25' '2014-01-17' '2012-08-03' '2013-12-15'\n",
            " '2014-01-16' '2012-12-17' '2013-03-07' '2014-06-09']\n"
          ]
        }
      ],
      "source": [
        "non_numeric_columns = train_set.select_dtypes(exclude=['float64', 'int64']).columns\n",
        "print(\"Kolom Non-Numerik:\", non_numeric_columns)\n",
        "\n",
        "# Periksa nilai unik dalam kolom non-numerik\n",
        "for column in non_numeric_columns:\n",
        "    print(\"Nilai Unik untuk Kolom\", column, \":\", train_set[column].unique())"
      ]
    },
    {
      "cell_type": "code",
      "execution_count": 245,
      "metadata": {
        "colab": {
          "base_uri": "https://localhost:8080/",
          "height": 226
        },
        "id": "zCXnirfC47j4",
        "outputId": "265cba76-5658-4ee0-8279-2cd8853ce92b"
      },
      "outputs": [
        {
          "data": {
            "text/html": [
              "<div>\n",
              "<style scoped>\n",
              "    .dataframe tbody tr th:only-of-type {\n",
              "        vertical-align: middle;\n",
              "    }\n",
              "\n",
              "    .dataframe tbody tr th {\n",
              "        vertical-align: top;\n",
              "    }\n",
              "\n",
              "    .dataframe thead th {\n",
              "        text-align: right;\n",
              "    }\n",
              "</style>\n",
              "<table border=\"1\" class=\"dataframe\">\n",
              "  <thead>\n",
              "    <tr style=\"text-align: right;\">\n",
              "      <th></th>\n",
              "      <th>ID</th>\n",
              "      <th>tahun_kelahiran</th>\n",
              "      <th>pendidikan</th>\n",
              "      <th>status_pernikahan</th>\n",
              "      <th>pendapatan</th>\n",
              "      <th>jumlah_anak_balita</th>\n",
              "      <th>jumlah_anak_remaja</th>\n",
              "      <th>terakhir_belanja</th>\n",
              "      <th>belanja_buah</th>\n",
              "      <th>belanja_daging</th>\n",
              "      <th>belanja_ikan</th>\n",
              "      <th>belanja_kue</th>\n",
              "      <th>pembelian_diskon</th>\n",
              "      <th>pembelian_web</th>\n",
              "      <th>pembelian_toko</th>\n",
              "      <th>keluhan</th>\n",
              "      <th>tanggal_menjadi_anggota</th>\n",
              "      <th>jumlah_promosi</th>\n",
              "    </tr>\n",
              "  </thead>\n",
              "  <tbody>\n",
              "    <tr>\n",
              "      <th>0</th>\n",
              "      <td>0</td>\n",
              "      <td>1979</td>\n",
              "      <td>Sarjana</td>\n",
              "      <td>Rencana Menikah</td>\n",
              "      <td>NaN</td>\n",
              "      <td>0.0</td>\n",
              "      <td>1.0</td>\n",
              "      <td>NaN</td>\n",
              "      <td>50575.0</td>\n",
              "      <td>260967.0</td>\n",
              "      <td>50575.0</td>\n",
              "      <td>20230.0</td>\n",
              "      <td>2.0</td>\n",
              "      <td>2.0</td>\n",
              "      <td>5.0</td>\n",
              "      <td>0.0</td>\n",
              "      <td>2014-05-05</td>\n",
              "      <td>2</td>\n",
              "    </tr>\n",
              "    <tr>\n",
              "      <th>1</th>\n",
              "      <td>0</td>\n",
              "      <td>1950</td>\n",
              "      <td>Sarjana</td>\n",
              "      <td>Rencana Menikah</td>\n",
              "      <td>84063000.0</td>\n",
              "      <td>NaN</td>\n",
              "      <td>NaN</td>\n",
              "      <td>70.0</td>\n",
              "      <td>6069.0</td>\n",
              "      <td>44506.0</td>\n",
              "      <td>80920.0</td>\n",
              "      <td>20230.0</td>\n",
              "      <td>9.0</td>\n",
              "      <td>6.0</td>\n",
              "      <td>4.0</td>\n",
              "      <td>0.0</td>\n",
              "      <td>2013-03-17</td>\n",
              "      <td>0</td>\n",
              "    </tr>\n",
              "    <tr>\n",
              "      <th>2</th>\n",
              "      <td>0</td>\n",
              "      <td>1966</td>\n",
              "      <td>Sarjana</td>\n",
              "      <td>Menikah</td>\n",
              "      <td>127532564.0</td>\n",
              "      <td>0.0</td>\n",
              "      <td>0.0</td>\n",
              "      <td>45.0</td>\n",
              "      <td>117611.0</td>\n",
              "      <td>265460.0</td>\n",
              "      <td>96341.0</td>\n",
              "      <td>145573.0</td>\n",
              "      <td>1.0</td>\n",
              "      <td>1.0</td>\n",
              "      <td>7.0</td>\n",
              "      <td>0.0</td>\n",
              "      <td>NaN</td>\n",
              "      <td>1</td>\n",
              "    </tr>\n",
              "    <tr>\n",
              "      <th>3</th>\n",
              "      <td>0</td>\n",
              "      <td>1961</td>\n",
              "      <td>Magister</td>\n",
              "      <td>Rencana Menikah</td>\n",
              "      <td>165579620.0</td>\n",
              "      <td>0.0</td>\n",
              "      <td>0.0</td>\n",
              "      <td>90.0</td>\n",
              "      <td>206346.0</td>\n",
              "      <td>1613901.0</td>\n",
              "      <td>27725.0</td>\n",
              "      <td>125868.0</td>\n",
              "      <td>0.0</td>\n",
              "      <td>7.0</td>\n",
              "      <td>8.0</td>\n",
              "      <td>0.0</td>\n",
              "      <td>NaN</td>\n",
              "      <td>4</td>\n",
              "    </tr>\n",
              "    <tr>\n",
              "      <th>4</th>\n",
              "      <td>0</td>\n",
              "      <td>1970</td>\n",
              "      <td>Sarjana</td>\n",
              "      <td>Rencana Menikah</td>\n",
              "      <td>117703159.0</td>\n",
              "      <td>1.0</td>\n",
              "      <td>1.0</td>\n",
              "      <td>78.0</td>\n",
              "      <td>90563.0</td>\n",
              "      <td>311757.0</td>\n",
              "      <td>40358.0</td>\n",
              "      <td>33875.0</td>\n",
              "      <td>7.0</td>\n",
              "      <td>6.0</td>\n",
              "      <td>5.0</td>\n",
              "      <td>0.0</td>\n",
              "      <td>NaN</td>\n",
              "      <td>4</td>\n",
              "    </tr>\n",
              "  </tbody>\n",
              "</table>\n",
              "</div>"
            ],
            "text/plain": [
              "   ID  tahun_kelahiran pendidikan status_pernikahan   pendapatan  \\\n",
              "0   0             1979    Sarjana   Rencana Menikah          NaN   \n",
              "1   0             1950    Sarjana   Rencana Menikah   84063000.0   \n",
              "2   0             1966    Sarjana           Menikah  127532564.0   \n",
              "3   0             1961   Magister   Rencana Menikah  165579620.0   \n",
              "4   0             1970    Sarjana   Rencana Menikah  117703159.0   \n",
              "\n",
              "   jumlah_anak_balita  jumlah_anak_remaja  terakhir_belanja  belanja_buah  \\\n",
              "0                 0.0                 1.0               NaN       50575.0   \n",
              "1                 NaN                 NaN              70.0        6069.0   \n",
              "2                 0.0                 0.0              45.0      117611.0   \n",
              "3                 0.0                 0.0              90.0      206346.0   \n",
              "4                 1.0                 1.0              78.0       90563.0   \n",
              "\n",
              "   belanja_daging  belanja_ikan  belanja_kue  pembelian_diskon  pembelian_web  \\\n",
              "0        260967.0       50575.0      20230.0               2.0            2.0   \n",
              "1         44506.0       80920.0      20230.0               9.0            6.0   \n",
              "2        265460.0       96341.0     145573.0               1.0            1.0   \n",
              "3       1613901.0       27725.0     125868.0               0.0            7.0   \n",
              "4        311757.0       40358.0      33875.0               7.0            6.0   \n",
              "\n",
              "   pembelian_toko  keluhan tanggal_menjadi_anggota  jumlah_promosi  \n",
              "0             5.0      0.0              2014-05-05               2  \n",
              "1             4.0      0.0              2013-03-17               0  \n",
              "2             7.0      0.0                     NaN               1  \n",
              "3             8.0      0.0                     NaN               4  \n",
              "4             5.0      0.0                     NaN               4  "
            ]
          },
          "execution_count": 245,
          "metadata": {},
          "output_type": "execute_result"
        }
      ],
      "source": [
        "train_set.head()"
      ]
    },
    {
      "cell_type": "markdown",
      "metadata": {
        "id": "XI2bmVim47kk"
      },
      "source": [
        "## Data Preparation"
      ]
    },
    {
      "cell_type": "markdown",
      "metadata": {
        "id": "vuvHRceg47km"
      },
      "source": [
        "### Drop Duplicate Data"
      ]
    },
    {
      "cell_type": "code",
      "execution_count": 246,
      "metadata": {
        "colab": {
          "base_uri": "https://localhost:8080/"
        },
        "id": "u_r94XND47ko",
        "outputId": "392e32f7-d321-457a-f44f-7046bc3cbde9"
      },
      "outputs": [
        {
          "name": "stdout",
          "output_type": "stream",
          "text": [
            "Rows before dropping duplicates: 3817\n",
            "Rows after dropping duplicates: 3817\n"
          ]
        }
      ],
      "source": [
        "# drop row has similar value\n",
        "print(\"Rows before dropping duplicates:\", len(train_set))\n",
        "train_set.drop_duplicates(inplace=True)\n",
        "print(\"Rows after dropping duplicates:\", len(train_set))\n",
        "\n",
        "train_set.reset_index(drop=True, inplace=True)"
      ]
    },
    {
      "cell_type": "markdown",
      "metadata": {
        "id": "3ZMPPQh647kq"
      },
      "source": [
        "No duplicate rows in the training data."
      ]
    },
    {
      "cell_type": "code",
      "execution_count": 247,
      "metadata": {
        "colab": {
          "base_uri": "https://localhost:8080/"
        },
        "id": "C5lEWX5C47k-",
        "outputId": "b5430535-f729-4206-ce76-ad7bf299310c"
      },
      "outputs": [
        {
          "name": "stdout",
          "output_type": "stream",
          "text": [
            "Rows before dropping all NaN value: 3817\n",
            "Rows after dropping all NaN value: 3817\n"
          ]
        }
      ],
      "source": [
        "# Drop row has all NaN value\n",
        "print(\"Rows before dropping all NaN value:\", len(train_set))\n",
        "train_set.dropna(how='all', inplace=True)\n",
        "print(\"Rows after dropping all NaN value:\", len(train_set))\n"
      ]
    },
    {
      "cell_type": "code",
      "execution_count": 248,
      "metadata": {
        "id": "uNDxBb6H47pK"
      },
      "outputs": [],
      "source": [
        "# Drop column tanggal_menjadi_anggota\n",
        "train_set.drop('tanggal_menjadi_anggota', axis=1, inplace=True)\n",
        "# train_set.drop('tahun_kelahiran', axis=1, inplace=True)\n",
        "# train_set.head()"
      ]
    },
    {
      "cell_type": "code",
      "execution_count": 249,
      "metadata": {
        "colab": {
          "base_uri": "https://localhost:8080/",
          "height": 226
        },
        "id": "q6ADbdbP47pT",
        "outputId": "de83c375-39cc-4ff0-dce3-15159d5037d4"
      },
      "outputs": [
        {
          "data": {
            "text/html": [
              "<div>\n",
              "<style scoped>\n",
              "    .dataframe tbody tr th:only-of-type {\n",
              "        vertical-align: middle;\n",
              "    }\n",
              "\n",
              "    .dataframe tbody tr th {\n",
              "        vertical-align: top;\n",
              "    }\n",
              "\n",
              "    .dataframe thead th {\n",
              "        text-align: right;\n",
              "    }\n",
              "</style>\n",
              "<table border=\"1\" class=\"dataframe\">\n",
              "  <thead>\n",
              "    <tr style=\"text-align: right;\">\n",
              "      <th></th>\n",
              "      <th>ID</th>\n",
              "      <th>tahun_kelahiran</th>\n",
              "      <th>pendidikan</th>\n",
              "      <th>status_pernikahan</th>\n",
              "      <th>pendapatan</th>\n",
              "      <th>jumlah_anak_balita</th>\n",
              "      <th>jumlah_anak_remaja</th>\n",
              "      <th>terakhir_belanja</th>\n",
              "      <th>belanja_buah</th>\n",
              "      <th>belanja_daging</th>\n",
              "      <th>belanja_ikan</th>\n",
              "      <th>belanja_kue</th>\n",
              "      <th>pembelian_diskon</th>\n",
              "      <th>pembelian_web</th>\n",
              "      <th>pembelian_toko</th>\n",
              "      <th>keluhan</th>\n",
              "      <th>jumlah_promosi</th>\n",
              "      <th>total_pembelian</th>\n",
              "      <th>total_belanja</th>\n",
              "      <th>total_anak</th>\n",
              "    </tr>\n",
              "  </thead>\n",
              "  <tbody>\n",
              "    <tr>\n",
              "      <th>0</th>\n",
              "      <td>0</td>\n",
              "      <td>1979</td>\n",
              "      <td>Sarjana</td>\n",
              "      <td>Rencana Menikah</td>\n",
              "      <td>NaN</td>\n",
              "      <td>0.0</td>\n",
              "      <td>1.0</td>\n",
              "      <td>NaN</td>\n",
              "      <td>50575.0</td>\n",
              "      <td>260967.0</td>\n",
              "      <td>50575.0</td>\n",
              "      <td>20230.0</td>\n",
              "      <td>2.0</td>\n",
              "      <td>2.0</td>\n",
              "      <td>5.0</td>\n",
              "      <td>0.0</td>\n",
              "      <td>2</td>\n",
              "      <td>7.0</td>\n",
              "      <td>382347.0</td>\n",
              "      <td>1.0</td>\n",
              "    </tr>\n",
              "    <tr>\n",
              "      <th>1</th>\n",
              "      <td>0</td>\n",
              "      <td>1950</td>\n",
              "      <td>Sarjana</td>\n",
              "      <td>Rencana Menikah</td>\n",
              "      <td>84063000.0</td>\n",
              "      <td>0.0</td>\n",
              "      <td>0.0</td>\n",
              "      <td>70.0</td>\n",
              "      <td>6069.0</td>\n",
              "      <td>44506.0</td>\n",
              "      <td>80920.0</td>\n",
              "      <td>20230.0</td>\n",
              "      <td>9.0</td>\n",
              "      <td>6.0</td>\n",
              "      <td>4.0</td>\n",
              "      <td>0.0</td>\n",
              "      <td>0</td>\n",
              "      <td>10.0</td>\n",
              "      <td>151725.0</td>\n",
              "      <td>0.0</td>\n",
              "    </tr>\n",
              "    <tr>\n",
              "      <th>2</th>\n",
              "      <td>0</td>\n",
              "      <td>1966</td>\n",
              "      <td>Sarjana</td>\n",
              "      <td>Menikah</td>\n",
              "      <td>127532564.0</td>\n",
              "      <td>0.0</td>\n",
              "      <td>0.0</td>\n",
              "      <td>45.0</td>\n",
              "      <td>117611.0</td>\n",
              "      <td>265460.0</td>\n",
              "      <td>96341.0</td>\n",
              "      <td>145573.0</td>\n",
              "      <td>1.0</td>\n",
              "      <td>1.0</td>\n",
              "      <td>7.0</td>\n",
              "      <td>0.0</td>\n",
              "      <td>1</td>\n",
              "      <td>8.0</td>\n",
              "      <td>624985.0</td>\n",
              "      <td>0.0</td>\n",
              "    </tr>\n",
              "    <tr>\n",
              "      <th>3</th>\n",
              "      <td>0</td>\n",
              "      <td>1961</td>\n",
              "      <td>Magister</td>\n",
              "      <td>Rencana Menikah</td>\n",
              "      <td>165579620.0</td>\n",
              "      <td>0.0</td>\n",
              "      <td>0.0</td>\n",
              "      <td>90.0</td>\n",
              "      <td>206346.0</td>\n",
              "      <td>1613901.0</td>\n",
              "      <td>27725.0</td>\n",
              "      <td>125868.0</td>\n",
              "      <td>0.0</td>\n",
              "      <td>7.0</td>\n",
              "      <td>8.0</td>\n",
              "      <td>0.0</td>\n",
              "      <td>4</td>\n",
              "      <td>15.0</td>\n",
              "      <td>1973840.0</td>\n",
              "      <td>0.0</td>\n",
              "    </tr>\n",
              "    <tr>\n",
              "      <th>4</th>\n",
              "      <td>0</td>\n",
              "      <td>1970</td>\n",
              "      <td>Sarjana</td>\n",
              "      <td>Rencana Menikah</td>\n",
              "      <td>117703159.0</td>\n",
              "      <td>1.0</td>\n",
              "      <td>1.0</td>\n",
              "      <td>78.0</td>\n",
              "      <td>90563.0</td>\n",
              "      <td>311757.0</td>\n",
              "      <td>40358.0</td>\n",
              "      <td>33875.0</td>\n",
              "      <td>7.0</td>\n",
              "      <td>6.0</td>\n",
              "      <td>5.0</td>\n",
              "      <td>0.0</td>\n",
              "      <td>4</td>\n",
              "      <td>11.0</td>\n",
              "      <td>476553.0</td>\n",
              "      <td>2.0</td>\n",
              "    </tr>\n",
              "  </tbody>\n",
              "</table>\n",
              "</div>"
            ],
            "text/plain": [
              "   ID  tahun_kelahiran pendidikan status_pernikahan   pendapatan  \\\n",
              "0   0             1979    Sarjana   Rencana Menikah          NaN   \n",
              "1   0             1950    Sarjana   Rencana Menikah   84063000.0   \n",
              "2   0             1966    Sarjana           Menikah  127532564.0   \n",
              "3   0             1961   Magister   Rencana Menikah  165579620.0   \n",
              "4   0             1970    Sarjana   Rencana Menikah  117703159.0   \n",
              "\n",
              "   jumlah_anak_balita  jumlah_anak_remaja  terakhir_belanja  belanja_buah  \\\n",
              "0                 0.0                 1.0               NaN       50575.0   \n",
              "1                 0.0                 0.0              70.0        6069.0   \n",
              "2                 0.0                 0.0              45.0      117611.0   \n",
              "3                 0.0                 0.0              90.0      206346.0   \n",
              "4                 1.0                 1.0              78.0       90563.0   \n",
              "\n",
              "   belanja_daging  belanja_ikan  belanja_kue  pembelian_diskon  pembelian_web  \\\n",
              "0        260967.0       50575.0      20230.0               2.0            2.0   \n",
              "1         44506.0       80920.0      20230.0               9.0            6.0   \n",
              "2        265460.0       96341.0     145573.0               1.0            1.0   \n",
              "3       1613901.0       27725.0     125868.0               0.0            7.0   \n",
              "4        311757.0       40358.0      33875.0               7.0            6.0   \n",
              "\n",
              "   pembelian_toko  keluhan  jumlah_promosi  total_pembelian  total_belanja  \\\n",
              "0             5.0      0.0               2              7.0       382347.0   \n",
              "1             4.0      0.0               0             10.0       151725.0   \n",
              "2             7.0      0.0               1              8.0       624985.0   \n",
              "3             8.0      0.0               4             15.0      1973840.0   \n",
              "4             5.0      0.0               4             11.0       476553.0   \n",
              "\n",
              "   total_anak  \n",
              "0         1.0  \n",
              "1         0.0  \n",
              "2         0.0  \n",
              "3         0.0  \n",
              "4         2.0  "
            ]
          },
          "execution_count": 249,
          "metadata": {},
          "output_type": "execute_result"
        }
      ],
      "source": [
        "# kucing 3\n",
        "# Drop column tanggal_menjadi_anggota pada test_set\n",
        "test_set.drop('tanggal_menjadi_anggota', axis=1, inplace=True)\n",
        "\n",
        "train_set['pembelian_web'].fillna(train_set['pembelian_web'].median(), inplace=True)\n",
        "train_set['pembelian_toko'].fillna(train_set['pembelian_toko'].median(), inplace=True)\n",
        "train_set['belanja_ikan'].fillna(train_set['belanja_ikan'].median(), inplace=True)\n",
        "train_set['belanja_kue'].fillna(train_set['belanja_kue'].median(), inplace=True)\n",
        "train_set['belanja_daging'].fillna(train_set['belanja_daging'].median(), inplace=True)\n",
        "train_set['belanja_buah'].fillna(train_set['belanja_buah'].median(), inplace=True)\n",
        "train_set['jumlah_anak_remaja'].fillna(0, inplace=True)\n",
        "train_set['jumlah_anak_balita'].fillna(0, inplace=True)\n",
        "\n",
        "test_set['pembelian_web'].fillna(test_set['pembelian_web'].median(), inplace=True)\n",
        "test_set['pembelian_toko'].fillna(test_set['pembelian_toko'].median(), inplace=True)\n",
        "test_set['belanja_ikan'].fillna(test_set['belanja_ikan'].median(), inplace=True)\n",
        "test_set['belanja_kue'].fillna(test_set['belanja_kue'].median(), inplace=True)\n",
        "test_set['belanja_daging'].fillna(test_set['belanja_daging'].median(), inplace=True)\n",
        "test_set['belanja_buah'].fillna(test_set['belanja_buah'].median(), inplace=True)\n",
        "test_set['jumlah_anak_remaja'].fillna(0, inplace=True)\n",
        "test_set['jumlah_anak_balita'].fillna(0, inplace=True)\n",
        "\n",
        "train_set['total_pembelian'] = (\n",
        "            train_set['pembelian_web'] + train_set['pembelian_toko']\n",
        "        )\n",
        "\n",
        "train_set['total_belanja'] = (\n",
        "            train_set['belanja_kue'] + train_set['belanja_daging'] +\n",
        "            train_set['belanja_ikan'] + train_set['belanja_buah']\n",
        "        )\n",
        "\n",
        "train_set['total_anak'] = (\n",
        "            train_set['jumlah_anak_remaja'] + train_set['jumlah_anak_balita']\n",
        "        )\n",
        "test_set['total_belanja'] = (\n",
        "            test_set['belanja_kue'] + test_set['belanja_daging'] +\n",
        "            test_set['belanja_ikan'] + test_set['belanja_buah']\n",
        "        )\n",
        "\n",
        "test_set['total_anak'] = (\n",
        "            test_set['jumlah_anak_remaja'] + test_set['jumlah_anak_balita']\n",
        "        )\n",
        "\n",
        "test_set['total_pembelian'] = (\n",
        "            test_set['pembelian_web'] + test_set['pembelian_toko']\n",
        "        )\n",
        "train_set.head()"
      ]
    },
    {
      "cell_type": "markdown",
      "metadata": {
        "id": "QEZkIH6047pX"
      },
      "source": [
        "## Split Training Set and Validation Set"
      ]
    },
    {
      "cell_type": "code",
      "execution_count": 250,
      "metadata": {
        "id": "8V76nd5k47pc"
      },
      "outputs": [],
      "source": [
        "from sklearn.model_selection import train_test_split\n",
        "\n",
        "# Save original training set\n",
        "train_set_ori = train_set.copy()\n",
        "\n",
        "# Split training set and validation set\n",
        "train_set, val_set = train_test_split(train_set, test_size=0.2, stratify=train_set['jumlah_promosi'], random_state=42)\n",
        "\n",
        "val_set['ID'] = val_set.reset_index().index"
      ]
    },
    {
      "cell_type": "code",
      "execution_count": 251,
      "metadata": {
        "colab": {
          "base_uri": "https://localhost:8080/"
        },
        "id": "gHdNxrTr47pg",
        "outputId": "485e40c0-5922-4e67-b860-26e9b3889d06"
      },
      "outputs": [
        {
          "data": {
            "text/plain": [
              "2464    2\n",
              "480     2\n",
              "2368    3\n",
              "3457    3\n",
              "503     5\n",
              "Name: jumlah_promosi, dtype: int64"
            ]
          },
          "execution_count": 251,
          "metadata": {},
          "output_type": "execute_result"
        }
      ],
      "source": [
        "val_set['jumlah_promosi'].head()"
      ]
    },
    {
      "cell_type": "code",
      "execution_count": 252,
      "metadata": {
        "colab": {
          "base_uri": "https://localhost:8080/"
        },
        "id": "L_WgFuvq47pj",
        "outputId": "e8d21f5f-6d34-4209-e236-779ef3c7e447"
      },
      "outputs": [
        {
          "name": "stdout",
          "output_type": "stream",
          "text": [
            "3053\n",
            "764\n"
          ]
        }
      ],
      "source": [
        "print(len(train_set))\n",
        "print(len(val_set))"
      ]
    },
    {
      "cell_type": "markdown",
      "metadata": {
        "id": "euWktyod47pl"
      },
      "source": [
        "## Preprocessing"
      ]
    },
    {
      "cell_type": "markdown",
      "metadata": {
        "id": "zlKb03J847pn"
      },
      "source": [
        "### Handle Missing Values¶"
      ]
    },
    {
      "cell_type": "code",
      "execution_count": 253,
      "metadata": {
        "colab": {
          "base_uri": "https://localhost:8080/"
        },
        "id": "k8S8xsqG47pv",
        "outputId": "aedcf1db-0bbf-4513-8216-2d9db8176f62"
      },
      "outputs": [
        {
          "name": "stdout",
          "output_type": "stream",
          "text": [
            "<class 'pandas.core.frame.DataFrame'>\n",
            "Int64Index: 3053 entries, 2329 to 206\n",
            "Data columns (total 20 columns):\n",
            " #   Column              Non-Null Count  Dtype  \n",
            "---  ------              --------------  -----  \n",
            " 0   ID                  3053 non-null   int64  \n",
            " 1   tahun_kelahiran     3053 non-null   int64  \n",
            " 2   pendidikan          2899 non-null   object \n",
            " 3   status_pernikahan   2879 non-null   object \n",
            " 4   pendapatan          2898 non-null   float64\n",
            " 5   jumlah_anak_balita  3053 non-null   float64\n",
            " 6   jumlah_anak_remaja  3053 non-null   float64\n",
            " 7   terakhir_belanja    2907 non-null   float64\n",
            " 8   belanja_buah        3053 non-null   float64\n",
            " 9   belanja_daging      3053 non-null   float64\n",
            " 10  belanja_ikan        3053 non-null   float64\n",
            " 11  belanja_kue         3053 non-null   float64\n",
            " 12  pembelian_diskon    2909 non-null   float64\n",
            " 13  pembelian_web       3053 non-null   float64\n",
            " 14  pembelian_toko      3053 non-null   float64\n",
            " 15  keluhan             2887 non-null   float64\n",
            " 16  jumlah_promosi      3053 non-null   int64  \n",
            " 17  total_pembelian     3053 non-null   float64\n",
            " 18  total_belanja       3053 non-null   float64\n",
            " 19  total_anak          3053 non-null   float64\n",
            "dtypes: float64(15), int64(3), object(2)\n",
            "memory usage: 500.9+ KB\n"
          ]
        }
      ],
      "source": [
        "train_set.info()"
      ]
    },
    {
      "cell_type": "code",
      "execution_count": 254,
      "metadata": {
        "colab": {
          "base_uri": "https://localhost:8080/"
        },
        "id": "Olxvj9nC47py",
        "outputId": "7a63bd5f-dad6-47f0-e382-031057da5fcd"
      },
      "outputs": [
        {
          "name": "stdout",
          "output_type": "stream",
          "text": [
            "<class 'pandas.core.frame.DataFrame'>\n",
            "Int64Index: 764 entries, 2464 to 2265\n",
            "Data columns (total 20 columns):\n",
            " #   Column              Non-Null Count  Dtype  \n",
            "---  ------              --------------  -----  \n",
            " 0   ID                  764 non-null    int64  \n",
            " 1   tahun_kelahiran     764 non-null    int64  \n",
            " 2   pendidikan          729 non-null    object \n",
            " 3   status_pernikahan   726 non-null    object \n",
            " 4   pendapatan          729 non-null    float64\n",
            " 5   jumlah_anak_balita  764 non-null    float64\n",
            " 6   jumlah_anak_remaja  764 non-null    float64\n",
            " 7   terakhir_belanja    738 non-null    float64\n",
            " 8   belanja_buah        764 non-null    float64\n",
            " 9   belanja_daging      764 non-null    float64\n",
            " 10  belanja_ikan        764 non-null    float64\n",
            " 11  belanja_kue         764 non-null    float64\n",
            " 12  pembelian_diskon    730 non-null    float64\n",
            " 13  pembelian_web       764 non-null    float64\n",
            " 14  pembelian_toko      764 non-null    float64\n",
            " 15  keluhan             734 non-null    float64\n",
            " 16  jumlah_promosi      764 non-null    int64  \n",
            " 17  total_pembelian     764 non-null    float64\n",
            " 18  total_belanja       764 non-null    float64\n",
            " 19  total_anak          764 non-null    float64\n",
            "dtypes: float64(15), int64(3), object(2)\n",
            "memory usage: 125.3+ KB\n"
          ]
        }
      ],
      "source": [
        "val_set.info()"
      ]
    },
    {
      "cell_type": "code",
      "execution_count": 255,
      "metadata": {
        "id": "Nq1GVqdx47p0"
      },
      "outputs": [],
      "source": [
        "# Split numerical and categorical variables\n",
        "num_feat = train_set.select_dtypes(include=['int', 'float'])\n",
        "cat_feat = train_set.select_dtypes(include=['object'])\n",
        "\n",
        "num_feat_val = val_set.select_dtypes(include=['int', 'float'])\n",
        "cat_feat_val = val_set.select_dtypes(include=['object'])"
      ]
    },
    {
      "cell_type": "code",
      "execution_count": 256,
      "metadata": {
        "colab": {
          "base_uri": "https://localhost:8080/"
        },
        "id": "Oi07f_4s47p1",
        "outputId": "648f9d7d-4928-41dd-a17b-fdd0916c6be6"
      },
      "outputs": [
        {
          "name": "stdout",
          "output_type": "stream",
          "text": [
            "Missing numerical train data: \n",
            "keluhan Null Values: 5.44% of the dataset (166)\n",
            "pendapatan Null Values: 5.08% of the dataset (155)\n",
            "terakhir_belanja Null Values: 4.78% of the dataset (146)\n",
            "pembelian_diskon Null Values: 4.72% of the dataset (144)\n",
            "\n",
            "Missing categorical train data:\n",
            "status_pernikahan Null Values: 5.7% of the dataset (174)\n",
            "pendidikan Null Values: 5.04% of the dataset (154)\n"
          ]
        }
      ],
      "source": [
        "def feat_null_pct(num, data):\n",
        "    missing = num.isnull().sum()\n",
        "    nans = missing[missing > 0].sort_values(ascending=False)\n",
        "    for col in nans.index:\n",
        "        print(f\"{col} Null Values: {round(100 - data[col].value_counts().sum()/len(data) * 100, 2)}% of the dataset ({len(data) - data[col].value_counts().sum()})\")\n",
        "\n",
        "print(\"Missing numerical train data: \")\n",
        "feat_null_pct(num_feat, train_set)\n",
        "print()\n",
        "print(\"Missing categorical train data:\")\n",
        "feat_null_pct(cat_feat, train_set)"
      ]
    },
    {
      "cell_type": "code",
      "execution_count": 257,
      "metadata": {
        "colab": {
          "base_uri": "https://localhost:8080/"
        },
        "id": "yYi_MRuP47p3",
        "outputId": "9040fa9e-4d18-45c4-9ab2-e6127fd49b98"
      },
      "outputs": [
        {
          "name": "stdout",
          "output_type": "stream",
          "text": [
            "Missing numerical validation data: \n",
            "pendapatan Null Values: 4.58% of the dataset (35)\n",
            "pembelian_diskon Null Values: 4.45% of the dataset (34)\n",
            "keluhan Null Values: 3.93% of the dataset (30)\n",
            "terakhir_belanja Null Values: 3.4% of the dataset (26)\n",
            "\n",
            "Missing categorical validation data:\n",
            "status_pernikahan Null Values: 4.97% of the dataset (38)\n",
            "pendidikan Null Values: 4.58% of the dataset (35)\n"
          ]
        }
      ],
      "source": [
        "print(\"Missing numerical validation data: \")\n",
        "feat_null_pct(num_feat_val, val_set)\n",
        "print()\n",
        "print(\"Missing categorical validation data:\")\n",
        "feat_null_pct(cat_feat_val, val_set)"
      ]
    },
    {
      "cell_type": "code",
      "execution_count": 258,
      "metadata": {
        "id": "kC_QNwCG47p8"
      },
      "outputs": [],
      "source": [
        "# kucing 2\n",
        "# Create custom imputer class\n",
        "from sklearn.base import BaseEstimator, TransformerMixin\n",
        "from sklearn.impute import SimpleImputer\n",
        "from sklearn.experimental import enable_iterative_imputer\n",
        "from sklearn.impute import IterativeImputer\n",
        "\n",
        "class FeatureImputer(BaseEstimator, TransformerMixin):\n",
        "\n",
        "    def fit(self, X, y=None):\n",
        "\n",
        "        # Impute pendidikan column\n",
        "        self.pendidikan_imputer = SimpleImputer(strategy='most_frequent')\n",
        "        self.pendidikan_imputer.fit(X[['pendidikan']])\n",
        "\n",
        "        # Impute status_pernikahan column\n",
        "        self.status_pernikahan_imputer = SimpleImputer(strategy=\"most_frequent\")\n",
        "        self.status_pernikahan_imputer.fit(X[['status_pernikahan']])\n",
        "\n",
        "        # Impute keluhan column with modus\n",
        "        self.keluhan_imputer = SimpleImputer(strategy='most_frequent')\n",
        "        self.keluhan_imputer.fit(X[['keluhan']])\n",
        "\n",
        "        # Impute jumlah_anak_remaja column\n",
        "        self.jumlah_anak_remaja_imputer = SimpleImputer(strategy=\"constant\", fill_value=0)\n",
        "        self.jumlah_anak_remaja_imputer.fit(X[['jumlah_anak_remaja']])\n",
        "\n",
        "        # Impute jumlah_anak_balita column\n",
        "        self.jumlah_anak_balita_imputer = SimpleImputer(strategy=\"constant\", fill_value=0)\n",
        "        self.jumlah_anak_balita_imputer.fit(X[['jumlah_anak_balita']])\n",
        "\n",
        "        # Impute belanja_kue column with median\n",
        "        self.belanja_kue_imputer = SimpleImputer(strategy='median')\n",
        "        self.belanja_kue_imputer.fit(X[['belanja_kue']])\n",
        "\n",
        "        # Impute belanja_daging column with median\n",
        "        self.belanja_daging_imputer = SimpleImputer(strategy='median')\n",
        "        self.belanja_daging_imputer.fit(X[['belanja_daging']])\n",
        "\n",
        "        # Impute total_anak column with median\n",
        "        self.total_anak_imputer = SimpleImputer(strategy=\"constant\", fill_value=0)\n",
        "        self.total_anak_imputer.fit(X[['total_anak']])\n",
        "\n",
        "        # Impute total_anak column with median\n",
        "        self.total_belanja_imputer = SimpleImputer(strategy='median')\n",
        "        self.total_belanja_imputer.fit(X[['total_belanja']])\n",
        "\n",
        "        # Impute belanja_ikan column with median\n",
        "        self.belanja_ikan_imputer = SimpleImputer(strategy='median')\n",
        "        self.belanja_ikan_imputer.fit(X[['belanja_ikan']])\n",
        "\n",
        "        # Impute belanja_buah column with median\n",
        "        self.belanja_buah_imputer = SimpleImputer(strategy='median')\n",
        "        self.belanja_buah_imputer.fit(X[['belanja_buah']])\n",
        "\n",
        "        # Impute pembelian_diskon column with median\n",
        "        self.pembelian_diskon_imputer = SimpleImputer(strategy='median')\n",
        "        self.pembelian_diskon_imputer.fit(X[['pembelian_diskon']])\n",
        "\n",
        "        # Impute pembelian_web column with median\n",
        "        self.pembelian_web_imputer = SimpleImputer(strategy='median')\n",
        "        self.pembelian_web_imputer.fit(X[['pembelian_web']])\n",
        "\n",
        "        # Impute pembelian_toko column with median\n",
        "        self.pembelian_toko_imputer = SimpleImputer(strategy='median')\n",
        "        self.pembelian_toko_imputer.fit(X[['pembelian_toko']])\n",
        "\n",
        "        # Impute pendapatan column with median\n",
        "        self.pendapatan_imputer = SimpleImputer(strategy='median')\n",
        "        self.pendapatan_imputer.fit(X[['pendapatan']])\n",
        "\n",
        "        # Impute terakhir_belanja column with median\n",
        "        self.terakhir_belanja_imputer = SimpleImputer(strategy='median')\n",
        "        self.terakhir_belanja_imputer.fit(X[['terakhir_belanja']])\n",
        "\n",
        "        # Impute total_pembelian column with median\n",
        "        self.total_pembelian_imputer = SimpleImputer(strategy=\"median\")\n",
        "        self.total_pembelian_imputer.fit(X[['total_pembelian']])\n",
        "\n",
        "        # Impute total_pembelian column with median\n",
        "        self.tahun_kelahiran_imputer = SimpleImputer(strategy=\"median\")\n",
        "        self.tahun_kelahiran_imputer.fit(X[['tahun_kelahiran']])\n",
        "\n",
        "\n",
        "        return self\n",
        "\n",
        "    def transform(self, X):\n",
        "        X_imputed = X.copy()\n",
        "\n",
        "        cat_cols = X_imputed.select_dtypes(include=['object'])\n",
        "\n",
        "        for col in cat_cols:\n",
        "\n",
        "            # Perform one-hot encoding\n",
        "            one_hot_encoded = pd.get_dummies(X_imputed[col], prefix=col, dtype=int)\n",
        "\n",
        "            # Concatenate one-hot encoded columns to the original DataFrame\n",
        "            X_imputed = pd.concat([X_imputed, one_hot_encoded], axis=1)\n",
        "\n",
        "            # Drop original categorical columns from DataFrame\n",
        "            X_imputed.drop(col, axis=1, inplace=True)\n",
        "        # Apply imputation to the '\n",
        "        # X_imputed['pendidikan'] = self.pendidikan_imputer.transform(X[['pendidikan']])\n",
        "        # X_imputed['status_pernikahan'] = self.status_pernikahan_imputer.transform(X[['status_pernikahan']])\n",
        "        X_imputed['keluhan'] = self.keluhan_imputer.transform(X[['keluhan']])\n",
        "        X_imputed['jumlah_anak_remaja'] = self.jumlah_anak_remaja_imputer.transform(X[['jumlah_anak_remaja']])\n",
        "        X_imputed['jumlah_anak_balita'] = self.jumlah_anak_balita_imputer.transform(X[['jumlah_anak_balita']])\n",
        "        X_imputed['belanja_kue'] = self.belanja_kue_imputer.transform(X[['belanja_kue']])\n",
        "        X_imputed['belanja_daging'] = self.belanja_daging_imputer.transform(X[['belanja_daging']])\n",
        "        X_imputed['belanja_ikan'] = self.belanja_ikan_imputer.transform(X[['belanja_ikan']])\n",
        "        X_imputed['belanja_buah'] = self.belanja_buah_imputer.transform(X[['belanja_buah']])\n",
        "\n",
        "        X_imputed['total_belanja'] = self.total_belanja_imputer.transform(X[['total_belanja']])\n",
        "        X_imputed['total_anak'] = self.total_anak_imputer.transform(X[['total_anak']])\n",
        "        X_imputed['total_pembelian'] = self.total_pembelian_imputer.transform(X[['total_pembelian']])\n",
        "\n",
        "\n",
        "        X_imputed['pembelian_diskon'] = self.pembelian_diskon_imputer.transform(X[['pembelian_diskon']])\n",
        "        X_imputed['pembelian_web'] = self.pembelian_web_imputer.transform(X[['pembelian_web']])\n",
        "        X_imputed['pembelian_toko'] = self.pembelian_toko_imputer.transform(X[['pembelian_toko']])\n",
        "        X_imputed['pendapatan'] = self.pendapatan_imputer.transform(X[['pendapatan']])\n",
        "        X_imputed['terakhir_belanja'] = self.terakhir_belanja_imputer.transform(X[['terakhir_belanja']])\n",
        "        X_imputed['tahun_kelahiran'] = self.tahun_kelahiran_imputer.transform(X[['tahun_kelahiran']])\n",
        "\n",
        "\n",
        "\n",
        "        return X_imputed"
      ]
    },
    {
      "cell_type": "markdown",
      "metadata": {
        "id": "oNMibGG347sB"
      },
      "source": [
        "### Feature Creation¶"
      ]
    },
    {
      "cell_type": "code",
      "execution_count": 259,
      "metadata": {
        "colab": {
          "base_uri": "https://localhost:8080/"
        },
        "id": "NNA4Xwvs47sD",
        "outputId": "926b69c7-ef6d-4533-b2e5-3fb732ccaaf1"
      },
      "outputs": [
        {
          "data": {
            "text/plain": [
              "0    786\n",
              "5    445\n",
              "1    412\n",
              "4    412\n",
              "3    378\n",
              "2    311\n",
              "6    309\n",
              "Name: jumlah_promosi, dtype: int64"
            ]
          },
          "execution_count": 259,
          "metadata": {},
          "output_type": "execute_result"
        }
      ],
      "source": [
        "n_promosi = 7\n",
        "most_freq_promosi = train_set['jumlah_promosi'].value_counts()[:n_promosi].index\n",
        "train_set['jumlah_promosi'].value_counts()[:n_promosi]"
      ]
    },
    {
      "cell_type": "code",
      "execution_count": 260,
      "metadata": {
        "colab": {
          "base_uri": "https://localhost:8080/"
        },
        "id": "8846vswx47sE",
        "outputId": "a8b9dca9-d984-43d2-9e5e-324c24ec96e0"
      },
      "outputs": [
        {
          "data": {
            "text/plain": [
              "Sarjana     1450\n",
              "Magister     692\n",
              "SMA          345\n",
              "Doktor       338\n",
              "SMP           72\n",
              "5              2\n",
              "Name: pendidikan, dtype: int64"
            ]
          },
          "execution_count": 260,
          "metadata": {},
          "output_type": "execute_result"
        }
      ],
      "source": [
        "n_pendidikan = 7\n",
        "most_freq_pendidikan= train_set['pendidikan'].value_counts()[:n_pendidikan].index\n",
        "train_set['pendidikan'].value_counts()[:n_pendidikan]"
      ]
    },
    {
      "cell_type": "code",
      "execution_count": 261,
      "metadata": {
        "colab": {
          "base_uri": "https://localhost:8080/"
        },
        "id": "16TMVKf447sF",
        "outputId": "1af3d37b-173b-43f9-bb38-c3a14cb96c97"
      },
      "outputs": [
        {
          "data": {
            "text/plain": [
              "Sarjana     1935\n",
              "Magister     803\n",
              "SMA          408\n",
              "Doktor       404\n",
              "SMP           62\n",
              "5              2\n",
              "Name: pendidikan, dtype: int64"
            ]
          },
          "execution_count": 261,
          "metadata": {},
          "output_type": "execute_result"
        }
      ],
      "source": [
        "n_pendidikan = 7\n",
        "most_freq_pendidikan= test_set['pendidikan'].value_counts()[:n_pendidikan].index\n",
        "test_set['pendidikan'].value_counts()[:n_pendidikan]\n",
        "# 3614"
      ]
    },
    {
      "cell_type": "code",
      "execution_count": 262,
      "metadata": {
        "colab": {
          "base_uri": "https://localhost:8080/"
        },
        "id": "RFWxg4d547sG",
        "outputId": "49ce83d2-9fbc-4e72-c8ba-71cdb4cc510d"
      },
      "outputs": [
        {
          "data": {
            "text/plain": [
              "3818"
            ]
          },
          "execution_count": 262,
          "metadata": {},
          "output_type": "execute_result"
        }
      ],
      "source": [
        "len(test_set)"
      ]
    },
    {
      "cell_type": "code",
      "execution_count": 263,
      "metadata": {
        "id": "Rnf7L5nV47sG"
      },
      "outputs": [],
      "source": [
        "# drop row where pendidikan = 5\n",
        "train_set = train_set[train_set['pendidikan'] != '5']\n",
        "train_set_ori = train_set_ori[train_set_ori['pendidikan'] != '5']"
      ]
    },
    {
      "cell_type": "code",
      "execution_count": 264,
      "metadata": {
        "id": "wceKMZa147sH"
      },
      "outputs": [],
      "source": [
        "n_status_pernikahan = 6\n",
        "most_freq_status_pernikahan= train_set['status_pernikahan'].value_counts()[:n_status_pernikahan].index\n",
        "train_set['status_pernikahan'].value_counts()[:n_status_pernikahan]\n",
        "train_set = train_set[train_set['status_pernikahan'] != '5']\n",
        "train_set_ori = train_set_ori[train_set_ori['status_pernikahan'] != '5']"
      ]
    },
    {
      "cell_type": "code",
      "execution_count": 265,
      "metadata": {
        "colab": {
          "base_uri": "https://localhost:8080/"
        },
        "id": "n2gNdAVi47sI",
        "outputId": "7063eb5a-ee87-4cf0-f217-6f585d9d5db1"
      },
      "outputs": [
        {
          "data": {
            "text/plain": [
              "Rencana Menikah    1272\n",
              "Menikah            1126\n",
              "Sendiri             972\n",
              "Cerai               206\n",
              "Cerai Mati           59\n",
              "5                     1\n",
              "Name: status_pernikahan, dtype: int64"
            ]
          },
          "execution_count": 265,
          "metadata": {},
          "output_type": "execute_result"
        }
      ],
      "source": [
        "n_status_pernikahan = 6\n",
        "most_freq_status_pernikahan= test_set['status_pernikahan'].value_counts()[:n_status_pernikahan].index\n",
        "test_set['status_pernikahan'].value_counts()[:n_status_pernikahan]\n",
        "# 3636"
      ]
    },
    {
      "cell_type": "code",
      "execution_count": 266,
      "metadata": {
        "id": "538Ep6Zw47sp"
      },
      "outputs": [],
      "source": [
        "# drop row where status_pernikahan = 5\n",
        "train_set = train_set[train_set['status_pernikahan'] != '5']\n",
        "train_set_ori = train_set_ori[train_set_ori['status_pernikahan'] != '5']"
      ]
    },
    {
      "cell_type": "markdown",
      "metadata": {
        "id": "t8pklfPd47st"
      },
      "source": [
        "### Encode Categorical Features"
      ]
    },
    {
      "cell_type": "code",
      "execution_count": 267,
      "metadata": {
        "id": "8SMNKqC847sv"
      },
      "outputs": [],
      "source": [
        "# Create custom encoder class\n",
        "class FeatureEncoder(BaseEstimator, TransformerMixin):\n",
        "\n",
        "    def fit(self, X, y=None):\n",
        "        return self\n",
        "\n",
        "    def transform(self, X):\n",
        "        X_encoded = X.copy()\n",
        "\n",
        "        cat_cols = X.select_dtypes(include=['object'])\n",
        "\n",
        "        for col in cat_cols:\n",
        "\n",
        "            # Perform one-hot encoding\n",
        "            X_encoded = pd.concat([X_encoded, pd.get_dummies(X_encoded[col], prefix=col)], axis=1)\n",
        "\n",
        "            # Drop original categorical columns from DataFrame\n",
        "            X_encoded.drop(col, axis=1, inplace=True)\n",
        "\n",
        "        return X_encoded"
      ]
    },
    {
      "cell_type": "markdown",
      "metadata": {
        "id": "kPkOtVkY47s6"
      },
      "source": [
        "### Remove Outliers¶\n",
        "This step is to remove outliers based on a column using the IQR method."
      ]
    },
    {
      "cell_type": "code",
      "execution_count": 268,
      "metadata": {
        "id": "XJ0kPQKH47s7"
      },
      "outputs": [],
      "source": [
        "# Outlier remover\n",
        "def remove_outlier(data, col):\n",
        "    # Determine IQR for column\n",
        "    col_values = data[col].values\n",
        "    q25, q75 = np.percentile(col_values, 25), np.percentile(col_values, 75)\n",
        "    print('Quartile 25: {} | Quartile 75: {}'.format(q25, q75))\n",
        "    iqr = q75 - q25\n",
        "    print('IQR: {}'.format(iqr))\n",
        "    print()\n",
        "\n",
        "    # Determine the cut off (IQR * 1.5)\n",
        "    cut_off = iqr * 1.5\n",
        "    lower, upper = q25 - cut_off, q75 + cut_off\n",
        "    print('Cut Off: {}'.format(cut_off))\n",
        "    print('Lower bound: {}'.format(lower))\n",
        "    print('Upper bound: {}'.format(upper))\n",
        "    print()\n",
        "\n",
        "    # Examine instances before removal\n",
        "    print(\"Number of instances before removal: {}\".format(len(data)))\n",
        "\n",
        "    # Remove outliers\n",
        "    data = data.drop(data[(data[col] > upper) | (data[col] < lower)].index)\n",
        "\n",
        "    # Examine instances after removal\n",
        "    print(\"Number of instances after removal: {}\".format(len(data)))\n",
        "    print()\n",
        "\n",
        "    return data"
      ]
    },
    {
      "cell_type": "code",
      "execution_count": 269,
      "metadata": {
        "id": "gmj1UaBm47tw"
      },
      "outputs": [],
      "source": [
        "def count_outliers(df):\n",
        "    outliers_count = {}\n",
        "\n",
        "    # Loop through each column in the DataFrame\n",
        "    for column in df.columns:\n",
        "        # Calculate the first quartile (Q1)\n",
        "        Q1 = df[column].quantile(0.25)\n",
        "\n",
        "        # Calculate the third quartile (Q3)\n",
        "        Q3 = df[column].quantile(0.75)\n",
        "\n",
        "        # Calculate the interquartile range (IQR)\n",
        "        IQR = Q3 - Q1\n",
        "\n",
        "        # Define the lower bound for outliers\n",
        "        lower_bound = Q1 - 1.5 * IQR\n",
        "\n",
        "        # Define the upper bound for outliers\n",
        "        upper_bound = Q3 + 1.5 * IQR\n",
        "\n",
        "        # Count the number of outliers for the current column\n",
        "        outliers_count[column] = np.sum((df[column] < lower_bound) | (df[column] > upper_bound))\n",
        "\n",
        "    return outliers_count"
      ]
    },
    {
      "cell_type": "markdown",
      "metadata": {
        "id": "jN-n5Jlb47t6"
      },
      "source": [
        "### Handle Imbalances"
      ]
    },
    {
      "cell_type": "code",
      "execution_count": 270,
      "metadata": {
        "id": "uKlmy3Wm47uB"
      },
      "outputs": [],
      "source": [
        "# Plot class distribution\n",
        "def plot_classes(y):\n",
        "    plt.title(\"Class distribution\")\n",
        "    plt.pie(x=y.value_counts(), autopct='%.2f', labels=y.value_counts().index)\n",
        "\n",
        "    print(y.value_counts())\n",
        "    print()"
      ]
    },
    {
      "cell_type": "code",
      "execution_count": 271,
      "metadata": {
        "id": "A0aL_MHL47uP"
      },
      "outputs": [],
      "source": [
        "from imblearn.over_sampling import SMOTE\n",
        "from imblearn.under_sampling import RandomUnderSampler\n",
        "\n",
        "def balance_classes(X_t, y_t):\n",
        "    # Impute missing values using mean imputation\n",
        "    imputer = SimpleImputer(strategy='mean')\n",
        "    X_t_imputed = imputer.fit_transform(X_t)\n",
        "\n",
        "    # Apply SMOTE\n",
        "    sm = SMOTE(random_state=42)\n",
        "    X_t_res, y_t_res = sm.fit_resample(X_t_imputed, y_t)\n",
        "    return X_t_res, y_t_res"
      ]
    },
    {
      "cell_type": "markdown",
      "metadata": {
        "id": "ScYNdWKM47uT"
      },
      "source": [
        "## Prepare Training and Validation set\n",
        "All of the preprocessing steps will be compiled in this section."
      ]
    },
    {
      "cell_type": "markdown",
      "metadata": {
        "id": "Y9-N5fpl47ub"
      },
      "source": [
        "### Fitting the Pipeline¶\n",
        "We will pass down the training and validation set through a pipeline that performs the preprocessing steps defined before."
      ]
    },
    {
      "cell_type": "code",
      "execution_count": 272,
      "metadata": {
        "id": "ec8z570Q47uc"
      },
      "outputs": [],
      "source": [
        "from sklearn.pipeline import Pipeline\n",
        "\n",
        "pipeline_val = Pipeline([(\"imputer\", FeatureImputer()),\n",
        "                    (\"encoder\", FeatureEncoder())])\n"
      ]
    },
    {
      "cell_type": "code",
      "execution_count": 273,
      "metadata": {
        "id": "wuqsgcOW47ug"
      },
      "outputs": [],
      "source": [
        "train_set = pipeline_val.fit_transform(train_set)\n",
        "val_set = pipeline_val.transform(val_set)\n",
        "testing_set = pipeline_val.transform(test_set)\n",
        "train_set_ori = pipeline_val.fit_transform(train_set_ori)"
      ]
    },
    {
      "cell_type": "code",
      "execution_count": 274,
      "metadata": {
        "colab": {
          "base_uri": "https://localhost:8080/",
          "height": 273
        },
        "id": "4f5-CWmaHe1T",
        "outputId": "2e3dce84-9ea1-4ca3-8c95-1f7e37fa722d"
      },
      "outputs": [
        {
          "data": {
            "text/html": [
              "<div>\n",
              "<style scoped>\n",
              "    .dataframe tbody tr th:only-of-type {\n",
              "        vertical-align: middle;\n",
              "    }\n",
              "\n",
              "    .dataframe tbody tr th {\n",
              "        vertical-align: top;\n",
              "    }\n",
              "\n",
              "    .dataframe thead th {\n",
              "        text-align: right;\n",
              "    }\n",
              "</style>\n",
              "<table border=\"1\" class=\"dataframe\">\n",
              "  <thead>\n",
              "    <tr style=\"text-align: right;\">\n",
              "      <th></th>\n",
              "      <th>ID</th>\n",
              "      <th>tahun_kelahiran</th>\n",
              "      <th>pendapatan</th>\n",
              "      <th>jumlah_anak_balita</th>\n",
              "      <th>jumlah_anak_remaja</th>\n",
              "      <th>terakhir_belanja</th>\n",
              "      <th>belanja_buah</th>\n",
              "      <th>belanja_daging</th>\n",
              "      <th>belanja_ikan</th>\n",
              "      <th>belanja_kue</th>\n",
              "      <th>...</th>\n",
              "      <th>pendidikan_Doktor</th>\n",
              "      <th>pendidikan_Magister</th>\n",
              "      <th>pendidikan_SMA</th>\n",
              "      <th>pendidikan_SMP</th>\n",
              "      <th>pendidikan_Sarjana</th>\n",
              "      <th>status_pernikahan_Cerai</th>\n",
              "      <th>status_pernikahan_Cerai Mati</th>\n",
              "      <th>status_pernikahan_Menikah</th>\n",
              "      <th>status_pernikahan_Rencana Menikah</th>\n",
              "      <th>status_pernikahan_Sendiri</th>\n",
              "    </tr>\n",
              "  </thead>\n",
              "  <tbody>\n",
              "    <tr>\n",
              "      <th>2329</th>\n",
              "      <td>0</td>\n",
              "      <td>1962.0</td>\n",
              "      <td>170435626.0</td>\n",
              "      <td>0.0</td>\n",
              "      <td>0.0</td>\n",
              "      <td>29.0</td>\n",
              "      <td>62713.0</td>\n",
              "      <td>925837.0</td>\n",
              "      <td>117753.0</td>\n",
              "      <td>151245.0</td>\n",
              "      <td>...</td>\n",
              "      <td>1</td>\n",
              "      <td>0</td>\n",
              "      <td>0</td>\n",
              "      <td>0</td>\n",
              "      <td>0</td>\n",
              "      <td>1</td>\n",
              "      <td>0</td>\n",
              "      <td>0</td>\n",
              "      <td>0</td>\n",
              "      <td>0</td>\n",
              "    </tr>\n",
              "    <tr>\n",
              "      <th>394</th>\n",
              "      <td>0</td>\n",
              "      <td>1973.0</td>\n",
              "      <td>171014909.0</td>\n",
              "      <td>0.0</td>\n",
              "      <td>0.0</td>\n",
              "      <td>79.0</td>\n",
              "      <td>189937.0</td>\n",
              "      <td>1166661.0</td>\n",
              "      <td>164325.0</td>\n",
              "      <td>84866.0</td>\n",
              "      <td>...</td>\n",
              "      <td>1</td>\n",
              "      <td>0</td>\n",
              "      <td>0</td>\n",
              "      <td>0</td>\n",
              "      <td>0</td>\n",
              "      <td>0</td>\n",
              "      <td>0</td>\n",
              "      <td>0</td>\n",
              "      <td>1</td>\n",
              "      <td>0</td>\n",
              "    </tr>\n",
              "    <tr>\n",
              "      <th>981</th>\n",
              "      <td>0</td>\n",
              "      <td>1951.0</td>\n",
              "      <td>98962000.0</td>\n",
              "      <td>0.0</td>\n",
              "      <td>1.0</td>\n",
              "      <td>36.0</td>\n",
              "      <td>26299.0</td>\n",
              "      <td>159817.0</td>\n",
              "      <td>12138.0</td>\n",
              "      <td>24276.0</td>\n",
              "      <td>...</td>\n",
              "      <td>0</td>\n",
              "      <td>0</td>\n",
              "      <td>0</td>\n",
              "      <td>0</td>\n",
              "      <td>1</td>\n",
              "      <td>0</td>\n",
              "      <td>0</td>\n",
              "      <td>0</td>\n",
              "      <td>1</td>\n",
              "      <td>0</td>\n",
              "    </tr>\n",
              "    <tr>\n",
              "      <th>1199</th>\n",
              "      <td>0</td>\n",
              "      <td>1966.0</td>\n",
              "      <td>93386407.0</td>\n",
              "      <td>0.0</td>\n",
              "      <td>1.0</td>\n",
              "      <td>38.0</td>\n",
              "      <td>10163.0</td>\n",
              "      <td>48697.0</td>\n",
              "      <td>10870.0</td>\n",
              "      <td>2632.0</td>\n",
              "      <td>...</td>\n",
              "      <td>0</td>\n",
              "      <td>0</td>\n",
              "      <td>0</td>\n",
              "      <td>0</td>\n",
              "      <td>1</td>\n",
              "      <td>0</td>\n",
              "      <td>0</td>\n",
              "      <td>0</td>\n",
              "      <td>0</td>\n",
              "      <td>1</td>\n",
              "    </tr>\n",
              "    <tr>\n",
              "      <th>3137</th>\n",
              "      <td>0</td>\n",
              "      <td>1959.0</td>\n",
              "      <td>150100639.0</td>\n",
              "      <td>0.0</td>\n",
              "      <td>0.0</td>\n",
              "      <td>46.0</td>\n",
              "      <td>127193.0</td>\n",
              "      <td>307425.0</td>\n",
              "      <td>90571.0</td>\n",
              "      <td>44549.0</td>\n",
              "      <td>...</td>\n",
              "      <td>0</td>\n",
              "      <td>0</td>\n",
              "      <td>0</td>\n",
              "      <td>0</td>\n",
              "      <td>1</td>\n",
              "      <td>0</td>\n",
              "      <td>0</td>\n",
              "      <td>1</td>\n",
              "      <td>0</td>\n",
              "      <td>0</td>\n",
              "    </tr>\n",
              "  </tbody>\n",
              "</table>\n",
              "<p>5 rows × 28 columns</p>\n",
              "</div>"
            ],
            "text/plain": [
              "      ID  tahun_kelahiran   pendapatan  jumlah_anak_balita  \\\n",
              "2329   0           1962.0  170435626.0                 0.0   \n",
              "394    0           1973.0  171014909.0                 0.0   \n",
              "981    0           1951.0   98962000.0                 0.0   \n",
              "1199   0           1966.0   93386407.0                 0.0   \n",
              "3137   0           1959.0  150100639.0                 0.0   \n",
              "\n",
              "      jumlah_anak_remaja  terakhir_belanja  belanja_buah  belanja_daging  \\\n",
              "2329                 0.0              29.0       62713.0        925837.0   \n",
              "394                  0.0              79.0      189937.0       1166661.0   \n",
              "981                  1.0              36.0       26299.0        159817.0   \n",
              "1199                 1.0              38.0       10163.0         48697.0   \n",
              "3137                 0.0              46.0      127193.0        307425.0   \n",
              "\n",
              "      belanja_ikan  belanja_kue  ...  pendidikan_Doktor  pendidikan_Magister  \\\n",
              "2329      117753.0     151245.0  ...                  1                    0   \n",
              "394       164325.0      84866.0  ...                  1                    0   \n",
              "981        12138.0      24276.0  ...                  0                    0   \n",
              "1199       10870.0       2632.0  ...                  0                    0   \n",
              "3137       90571.0      44549.0  ...                  0                    0   \n",
              "\n",
              "      pendidikan_SMA  pendidikan_SMP  pendidikan_Sarjana  \\\n",
              "2329               0               0                   0   \n",
              "394                0               0                   0   \n",
              "981                0               0                   1   \n",
              "1199               0               0                   1   \n",
              "3137               0               0                   1   \n",
              "\n",
              "      status_pernikahan_Cerai  status_pernikahan_Cerai Mati  \\\n",
              "2329                        1                             0   \n",
              "394                         0                             0   \n",
              "981                         0                             0   \n",
              "1199                        0                             0   \n",
              "3137                        0                             0   \n",
              "\n",
              "      status_pernikahan_Menikah  status_pernikahan_Rencana Menikah  \\\n",
              "2329                          0                                  0   \n",
              "394                           0                                  1   \n",
              "981                           0                                  1   \n",
              "1199                          0                                  0   \n",
              "3137                          1                                  0   \n",
              "\n",
              "      status_pernikahan_Sendiri  \n",
              "2329                          0  \n",
              "394                           0  \n",
              "981                           0  \n",
              "1199                          1  \n",
              "3137                          0  \n",
              "\n",
              "[5 rows x 28 columns]"
            ]
          },
          "execution_count": 274,
          "metadata": {},
          "output_type": "execute_result"
        }
      ],
      "source": [
        "train_set.head()"
      ]
    },
    {
      "cell_type": "code",
      "execution_count": 275,
      "metadata": {
        "colab": {
          "base_uri": "https://localhost:8080/"
        },
        "id": "halgSCr947uj",
        "outputId": "8e5aba62-fdc9-4ccd-a371-a354144b7428"
      },
      "outputs": [
        {
          "name": "stdout",
          "output_type": "stream",
          "text": [
            "{'ID': 0, 'tahun_kelahiran': 15, 'pendapatan': 8, 'jumlah_anak_balita': 0, 'jumlah_anak_remaja': 0, 'terakhir_belanja': 0, 'belanja_buah': 227, 'belanja_daging': 137, 'belanja_ikan': 198, 'belanja_kue': 227, 'pembelian_diskon': 117, 'pembelian_web': 17, 'pembelian_toko': 9, 'keluhan': 17, 'jumlah_promosi': 0, 'total_pembelian': 3, 'total_belanja': 40, 'total_anak': 19, 'pendidikan_Doktor': 337, 'pendidikan_Magister': 692, 'pendidikan_SMA': 345, 'pendidikan_SMP': 72, 'pendidikan_Sarjana': 0, 'status_pernikahan_Cerai': 175, 'status_pernikahan_Cerai Mati': 31, 'status_pernikahan_Menikah': 0, 'status_pernikahan_Rencana Menikah': 0, 'status_pernikahan_Sendiri': 744}\n"
          ]
        }
      ],
      "source": [
        "outliers_count = count_outliers(train_set)\n",
        "print(outliers_count)"
      ]
    },
    {
      "cell_type": "code",
      "execution_count": 276,
      "metadata": {
        "colab": {
          "base_uri": "https://localhost:8080/"
        },
        "id": "Ffuspivh-MZA",
        "outputId": "27999ef5-6b1d-4000-c221-750deb5d8a3d"
      },
      "outputs": [
        {
          "name": "stdout",
          "output_type": "stream",
          "text": [
            "{'ID': 0, 'tahun_kelahiran': 16, 'pendapatan': 10, 'jumlah_anak_balita': 0, 'jumlah_anak_remaja': 0, 'terakhir_belanja': 0, 'belanja_buah': 286, 'belanja_daging': 186, 'belanja_ikan': 249, 'belanja_kue': 315, 'pembelian_diskon': 151, 'pembelian_web': 23, 'pembelian_toko': 2, 'keluhan': 18, 'jumlah_promosi': 0, 'total_pembelian': 3, 'total_belanja': 55, 'total_anak': 24, 'pendidikan_Doktor': 402, 'pendidikan_Magister': 856, 'pendidikan_SMA': 435, 'pendidikan_SMP': 91, 'pendidikan_Sarjana': 0, 'status_pernikahan_Cerai': 214, 'status_pernikahan_Cerai Mati': 40, 'status_pernikahan_Menikah': 0, 'status_pernikahan_Rencana Menikah': 0, 'status_pernikahan_Sendiri': 0}\n"
          ]
        }
      ],
      "source": [
        "outliers_count = count_outliers(train_set_ori)\n",
        "print(outliers_count)"
      ]
    },
    {
      "cell_type": "code",
      "execution_count": 277,
      "metadata": {
        "colab": {
          "base_uri": "https://localhost:8080/"
        },
        "id": "fo5H7HXT47um",
        "outputId": "43d93229-6012-4159-fbd9-87408bb43a29"
      },
      "outputs": [
        {
          "name": "stdout",
          "output_type": "stream",
          "text": [
            "3050\n"
          ]
        }
      ],
      "source": [
        "print(len(train_set))"
      ]
    },
    {
      "cell_type": "code",
      "execution_count": 278,
      "metadata": {
        "colab": {
          "base_uri": "https://localhost:8080/",
          "height": 273
        },
        "id": "RQ9ANyOJ47uo",
        "outputId": "2ffb1138-e7b7-4bce-db28-f6ee2ad2d840"
      },
      "outputs": [
        {
          "data": {
            "text/html": [
              "<div>\n",
              "<style scoped>\n",
              "    .dataframe tbody tr th:only-of-type {\n",
              "        vertical-align: middle;\n",
              "    }\n",
              "\n",
              "    .dataframe tbody tr th {\n",
              "        vertical-align: top;\n",
              "    }\n",
              "\n",
              "    .dataframe thead th {\n",
              "        text-align: right;\n",
              "    }\n",
              "</style>\n",
              "<table border=\"1\" class=\"dataframe\">\n",
              "  <thead>\n",
              "    <tr style=\"text-align: right;\">\n",
              "      <th></th>\n",
              "      <th>ID</th>\n",
              "      <th>tahun_kelahiran</th>\n",
              "      <th>pendapatan</th>\n",
              "      <th>jumlah_anak_balita</th>\n",
              "      <th>jumlah_anak_remaja</th>\n",
              "      <th>terakhir_belanja</th>\n",
              "      <th>belanja_buah</th>\n",
              "      <th>belanja_daging</th>\n",
              "      <th>belanja_ikan</th>\n",
              "      <th>belanja_kue</th>\n",
              "      <th>...</th>\n",
              "      <th>pendidikan_Doktor</th>\n",
              "      <th>pendidikan_Magister</th>\n",
              "      <th>pendidikan_SMA</th>\n",
              "      <th>pendidikan_SMP</th>\n",
              "      <th>pendidikan_Sarjana</th>\n",
              "      <th>status_pernikahan_Cerai</th>\n",
              "      <th>status_pernikahan_Cerai Mati</th>\n",
              "      <th>status_pernikahan_Menikah</th>\n",
              "      <th>status_pernikahan_Rencana Menikah</th>\n",
              "      <th>status_pernikahan_Sendiri</th>\n",
              "    </tr>\n",
              "  </thead>\n",
              "  <tbody>\n",
              "    <tr>\n",
              "      <th>2464</th>\n",
              "      <td>0</td>\n",
              "      <td>1957.0</td>\n",
              "      <td>33742926.0</td>\n",
              "      <td>0.0</td>\n",
              "      <td>0.0</td>\n",
              "      <td>79.0</td>\n",
              "      <td>8109.0</td>\n",
              "      <td>25610.0</td>\n",
              "      <td>8792.0</td>\n",
              "      <td>5398.0</td>\n",
              "      <td>...</td>\n",
              "      <td>0</td>\n",
              "      <td>0</td>\n",
              "      <td>0</td>\n",
              "      <td>0</td>\n",
              "      <td>1</td>\n",
              "      <td>0</td>\n",
              "      <td>0</td>\n",
              "      <td>0</td>\n",
              "      <td>0</td>\n",
              "      <td>1</td>\n",
              "    </tr>\n",
              "    <tr>\n",
              "      <th>480</th>\n",
              "      <td>1</td>\n",
              "      <td>1976.0</td>\n",
              "      <td>140988476.0</td>\n",
              "      <td>0.0</td>\n",
              "      <td>0.0</td>\n",
              "      <td>45.0</td>\n",
              "      <td>102826.0</td>\n",
              "      <td>804331.0</td>\n",
              "      <td>52446.0</td>\n",
              "      <td>44966.0</td>\n",
              "      <td>...</td>\n",
              "      <td>0</td>\n",
              "      <td>0</td>\n",
              "      <td>0</td>\n",
              "      <td>0</td>\n",
              "      <td>1</td>\n",
              "      <td>0</td>\n",
              "      <td>0</td>\n",
              "      <td>0</td>\n",
              "      <td>1</td>\n",
              "      <td>0</td>\n",
              "    </tr>\n",
              "    <tr>\n",
              "      <th>2368</th>\n",
              "      <td>2</td>\n",
              "      <td>1979.0</td>\n",
              "      <td>29604689.0</td>\n",
              "      <td>1.0</td>\n",
              "      <td>0.0</td>\n",
              "      <td>57.0</td>\n",
              "      <td>0.0</td>\n",
              "      <td>6331.0</td>\n",
              "      <td>16100.0</td>\n",
              "      <td>12090.0</td>\n",
              "      <td>...</td>\n",
              "      <td>0</td>\n",
              "      <td>0</td>\n",
              "      <td>0</td>\n",
              "      <td>0</td>\n",
              "      <td>1</td>\n",
              "      <td>0</td>\n",
              "      <td>0</td>\n",
              "      <td>0</td>\n",
              "      <td>0</td>\n",
              "      <td>0</td>\n",
              "    </tr>\n",
              "    <tr>\n",
              "      <th>3457</th>\n",
              "      <td>3</td>\n",
              "      <td>1977.0</td>\n",
              "      <td>118810462.0</td>\n",
              "      <td>0.0</td>\n",
              "      <td>1.0</td>\n",
              "      <td>60.0</td>\n",
              "      <td>30193.0</td>\n",
              "      <td>172971.0</td>\n",
              "      <td>85239.0</td>\n",
              "      <td>72449.0</td>\n",
              "      <td>...</td>\n",
              "      <td>0</td>\n",
              "      <td>0</td>\n",
              "      <td>0</td>\n",
              "      <td>0</td>\n",
              "      <td>1</td>\n",
              "      <td>0</td>\n",
              "      <td>0</td>\n",
              "      <td>0</td>\n",
              "      <td>1</td>\n",
              "      <td>0</td>\n",
              "    </tr>\n",
              "    <tr>\n",
              "      <th>503</th>\n",
              "      <td>4</td>\n",
              "      <td>1972.0</td>\n",
              "      <td>129913133.0</td>\n",
              "      <td>0.0</td>\n",
              "      <td>0.0</td>\n",
              "      <td>49.0</td>\n",
              "      <td>30597.0</td>\n",
              "      <td>551015.0</td>\n",
              "      <td>29839.0</td>\n",
              "      <td>49816.0</td>\n",
              "      <td>...</td>\n",
              "      <td>0</td>\n",
              "      <td>0</td>\n",
              "      <td>0</td>\n",
              "      <td>0</td>\n",
              "      <td>1</td>\n",
              "      <td>0</td>\n",
              "      <td>0</td>\n",
              "      <td>0</td>\n",
              "      <td>0</td>\n",
              "      <td>1</td>\n",
              "    </tr>\n",
              "  </tbody>\n",
              "</table>\n",
              "<p>5 rows × 28 columns</p>\n",
              "</div>"
            ],
            "text/plain": [
              "      ID  tahun_kelahiran   pendapatan  jumlah_anak_balita  \\\n",
              "2464   0           1957.0   33742926.0                 0.0   \n",
              "480    1           1976.0  140988476.0                 0.0   \n",
              "2368   2           1979.0   29604689.0                 1.0   \n",
              "3457   3           1977.0  118810462.0                 0.0   \n",
              "503    4           1972.0  129913133.0                 0.0   \n",
              "\n",
              "      jumlah_anak_remaja  terakhir_belanja  belanja_buah  belanja_daging  \\\n",
              "2464                 0.0              79.0        8109.0         25610.0   \n",
              "480                  0.0              45.0      102826.0        804331.0   \n",
              "2368                 0.0              57.0           0.0          6331.0   \n",
              "3457                 1.0              60.0       30193.0        172971.0   \n",
              "503                  0.0              49.0       30597.0        551015.0   \n",
              "\n",
              "      belanja_ikan  belanja_kue  ...  pendidikan_Doktor  pendidikan_Magister  \\\n",
              "2464        8792.0       5398.0  ...                  0                    0   \n",
              "480        52446.0      44966.0  ...                  0                    0   \n",
              "2368       16100.0      12090.0  ...                  0                    0   \n",
              "3457       85239.0      72449.0  ...                  0                    0   \n",
              "503        29839.0      49816.0  ...                  0                    0   \n",
              "\n",
              "      pendidikan_SMA  pendidikan_SMP  pendidikan_Sarjana  \\\n",
              "2464               0               0                   1   \n",
              "480                0               0                   1   \n",
              "2368               0               0                   1   \n",
              "3457               0               0                   1   \n",
              "503                0               0                   1   \n",
              "\n",
              "      status_pernikahan_Cerai  status_pernikahan_Cerai Mati  \\\n",
              "2464                        0                             0   \n",
              "480                         0                             0   \n",
              "2368                        0                             0   \n",
              "3457                        0                             0   \n",
              "503                         0                             0   \n",
              "\n",
              "      status_pernikahan_Menikah  status_pernikahan_Rencana Menikah  \\\n",
              "2464                          0                                  0   \n",
              "480                           0                                  1   \n",
              "2368                          0                                  0   \n",
              "3457                          0                                  1   \n",
              "503                           0                                  0   \n",
              "\n",
              "      status_pernikahan_Sendiri  \n",
              "2464                          1  \n",
              "480                           0  \n",
              "2368                          0  \n",
              "3457                          0  \n",
              "503                           1  \n",
              "\n",
              "[5 rows x 28 columns]"
            ]
          },
          "execution_count": 278,
          "metadata": {},
          "output_type": "execute_result"
        }
      ],
      "source": [
        "val_set.head()"
      ]
    },
    {
      "cell_type": "code",
      "execution_count": 279,
      "metadata": {
        "colab": {
          "base_uri": "https://localhost:8080/"
        },
        "id": "MRROVF_B47uq",
        "outputId": "6a3f512f-f809-41d5-ce73-0a88e1436048"
      },
      "outputs": [
        {
          "name": "stdout",
          "output_type": "stream",
          "text": [
            "764\n"
          ]
        }
      ],
      "source": [
        "print(len(val_set))"
      ]
    },
    {
      "cell_type": "code",
      "execution_count": 280,
      "metadata": {
        "colab": {
          "base_uri": "https://localhost:8080/"
        },
        "id": "Z8pCthPE47ut",
        "outputId": "7cbfb887-e0b1-428c-fc2c-de893ee5e62a"
      },
      "outputs": [
        {
          "name": "stdout",
          "output_type": "stream",
          "text": [
            "Series([], dtype: float64)\n"
          ]
        }
      ],
      "source": [
        "null_test = val_set.columns[val_set.isnull().any()]\n",
        "print(val_set[null_test].isnull().sum())"
      ]
    },
    {
      "cell_type": "markdown",
      "metadata": {
        "id": "aiMyBNHV47uv"
      },
      "source": [
        "### Matching the Train and Validation Columns¶\n",
        "Columns need to be matched between the train and validation set as there may be columns that exists in the validation set but not in the training set, and vice versa."
      ]
    },
    {
      "cell_type": "code",
      "execution_count": 281,
      "metadata": {
        "id": "K2IlbxSz47uy"
      },
      "outputs": [],
      "source": [
        "def match_columns(train, test):\n",
        "    # Get list of columns in training set\n",
        "    train_cols = train.columns.tolist()\n",
        "\n",
        "    # Get list of columns in test set\n",
        "    test_cols = test.columns.tolist()\n",
        "\n",
        "    # Remove any columns in test set that aren't in training set\n",
        "    for col in test_cols:\n",
        "        if col not in train_cols:\n",
        "            test = test.drop(col, axis=1)\n",
        "\n",
        "    # Add any missing columns to test set and fill with 0\n",
        "    for col in train_cols:\n",
        "        if col not in test_cols:\n",
        "            test[col] = 0\n",
        "\n",
        "    # Reorder columns in test set to match training set\n",
        "    test = test[train_cols]\n",
        "\n",
        "    # Return modified test set\n",
        "    return test"
      ]
    },
    {
      "cell_type": "code",
      "execution_count": 282,
      "metadata": {
        "colab": {
          "base_uri": "https://localhost:8080/",
          "height": 273
        },
        "id": "vFJUlvKk47u0",
        "outputId": "2ead5ff5-cdb0-4295-face-98e2f854305c"
      },
      "outputs": [
        {
          "data": {
            "text/html": [
              "<div>\n",
              "<style scoped>\n",
              "    .dataframe tbody tr th:only-of-type {\n",
              "        vertical-align: middle;\n",
              "    }\n",
              "\n",
              "    .dataframe tbody tr th {\n",
              "        vertical-align: top;\n",
              "    }\n",
              "\n",
              "    .dataframe thead th {\n",
              "        text-align: right;\n",
              "    }\n",
              "</style>\n",
              "<table border=\"1\" class=\"dataframe\">\n",
              "  <thead>\n",
              "    <tr style=\"text-align: right;\">\n",
              "      <th></th>\n",
              "      <th>ID</th>\n",
              "      <th>tahun_kelahiran</th>\n",
              "      <th>pendapatan</th>\n",
              "      <th>jumlah_anak_balita</th>\n",
              "      <th>jumlah_anak_remaja</th>\n",
              "      <th>terakhir_belanja</th>\n",
              "      <th>belanja_buah</th>\n",
              "      <th>belanja_daging</th>\n",
              "      <th>belanja_ikan</th>\n",
              "      <th>belanja_kue</th>\n",
              "      <th>...</th>\n",
              "      <th>pendidikan_Doktor</th>\n",
              "      <th>pendidikan_Magister</th>\n",
              "      <th>pendidikan_SMA</th>\n",
              "      <th>pendidikan_SMP</th>\n",
              "      <th>pendidikan_Sarjana</th>\n",
              "      <th>status_pernikahan_Cerai</th>\n",
              "      <th>status_pernikahan_Cerai Mati</th>\n",
              "      <th>status_pernikahan_Menikah</th>\n",
              "      <th>status_pernikahan_Rencana Menikah</th>\n",
              "      <th>status_pernikahan_Sendiri</th>\n",
              "    </tr>\n",
              "  </thead>\n",
              "  <tbody>\n",
              "    <tr>\n",
              "      <th>2329</th>\n",
              "      <td>0</td>\n",
              "      <td>1962.0</td>\n",
              "      <td>170435626.0</td>\n",
              "      <td>0.0</td>\n",
              "      <td>0.0</td>\n",
              "      <td>29.0</td>\n",
              "      <td>62713.0</td>\n",
              "      <td>925837.0</td>\n",
              "      <td>117753.0</td>\n",
              "      <td>151245.0</td>\n",
              "      <td>...</td>\n",
              "      <td>1</td>\n",
              "      <td>0</td>\n",
              "      <td>0</td>\n",
              "      <td>0</td>\n",
              "      <td>0</td>\n",
              "      <td>1</td>\n",
              "      <td>0</td>\n",
              "      <td>0</td>\n",
              "      <td>0</td>\n",
              "      <td>0</td>\n",
              "    </tr>\n",
              "    <tr>\n",
              "      <th>394</th>\n",
              "      <td>0</td>\n",
              "      <td>1973.0</td>\n",
              "      <td>171014909.0</td>\n",
              "      <td>0.0</td>\n",
              "      <td>0.0</td>\n",
              "      <td>79.0</td>\n",
              "      <td>189937.0</td>\n",
              "      <td>1166661.0</td>\n",
              "      <td>164325.0</td>\n",
              "      <td>84866.0</td>\n",
              "      <td>...</td>\n",
              "      <td>1</td>\n",
              "      <td>0</td>\n",
              "      <td>0</td>\n",
              "      <td>0</td>\n",
              "      <td>0</td>\n",
              "      <td>0</td>\n",
              "      <td>0</td>\n",
              "      <td>0</td>\n",
              "      <td>1</td>\n",
              "      <td>0</td>\n",
              "    </tr>\n",
              "    <tr>\n",
              "      <th>981</th>\n",
              "      <td>0</td>\n",
              "      <td>1951.0</td>\n",
              "      <td>98962000.0</td>\n",
              "      <td>0.0</td>\n",
              "      <td>1.0</td>\n",
              "      <td>36.0</td>\n",
              "      <td>26299.0</td>\n",
              "      <td>159817.0</td>\n",
              "      <td>12138.0</td>\n",
              "      <td>24276.0</td>\n",
              "      <td>...</td>\n",
              "      <td>0</td>\n",
              "      <td>0</td>\n",
              "      <td>0</td>\n",
              "      <td>0</td>\n",
              "      <td>1</td>\n",
              "      <td>0</td>\n",
              "      <td>0</td>\n",
              "      <td>0</td>\n",
              "      <td>1</td>\n",
              "      <td>0</td>\n",
              "    </tr>\n",
              "    <tr>\n",
              "      <th>1199</th>\n",
              "      <td>0</td>\n",
              "      <td>1966.0</td>\n",
              "      <td>93386407.0</td>\n",
              "      <td>0.0</td>\n",
              "      <td>1.0</td>\n",
              "      <td>38.0</td>\n",
              "      <td>10163.0</td>\n",
              "      <td>48697.0</td>\n",
              "      <td>10870.0</td>\n",
              "      <td>2632.0</td>\n",
              "      <td>...</td>\n",
              "      <td>0</td>\n",
              "      <td>0</td>\n",
              "      <td>0</td>\n",
              "      <td>0</td>\n",
              "      <td>1</td>\n",
              "      <td>0</td>\n",
              "      <td>0</td>\n",
              "      <td>0</td>\n",
              "      <td>0</td>\n",
              "      <td>1</td>\n",
              "    </tr>\n",
              "    <tr>\n",
              "      <th>3137</th>\n",
              "      <td>0</td>\n",
              "      <td>1959.0</td>\n",
              "      <td>150100639.0</td>\n",
              "      <td>0.0</td>\n",
              "      <td>0.0</td>\n",
              "      <td>46.0</td>\n",
              "      <td>127193.0</td>\n",
              "      <td>307425.0</td>\n",
              "      <td>90571.0</td>\n",
              "      <td>44549.0</td>\n",
              "      <td>...</td>\n",
              "      <td>0</td>\n",
              "      <td>0</td>\n",
              "      <td>0</td>\n",
              "      <td>0</td>\n",
              "      <td>1</td>\n",
              "      <td>0</td>\n",
              "      <td>0</td>\n",
              "      <td>1</td>\n",
              "      <td>0</td>\n",
              "      <td>0</td>\n",
              "    </tr>\n",
              "  </tbody>\n",
              "</table>\n",
              "<p>5 rows × 28 columns</p>\n",
              "</div>"
            ],
            "text/plain": [
              "      ID  tahun_kelahiran   pendapatan  jumlah_anak_balita  \\\n",
              "2329   0           1962.0  170435626.0                 0.0   \n",
              "394    0           1973.0  171014909.0                 0.0   \n",
              "981    0           1951.0   98962000.0                 0.0   \n",
              "1199   0           1966.0   93386407.0                 0.0   \n",
              "3137   0           1959.0  150100639.0                 0.0   \n",
              "\n",
              "      jumlah_anak_remaja  terakhir_belanja  belanja_buah  belanja_daging  \\\n",
              "2329                 0.0              29.0       62713.0        925837.0   \n",
              "394                  0.0              79.0      189937.0       1166661.0   \n",
              "981                  1.0              36.0       26299.0        159817.0   \n",
              "1199                 1.0              38.0       10163.0         48697.0   \n",
              "3137                 0.0              46.0      127193.0        307425.0   \n",
              "\n",
              "      belanja_ikan  belanja_kue  ...  pendidikan_Doktor  pendidikan_Magister  \\\n",
              "2329      117753.0     151245.0  ...                  1                    0   \n",
              "394       164325.0      84866.0  ...                  1                    0   \n",
              "981        12138.0      24276.0  ...                  0                    0   \n",
              "1199       10870.0       2632.0  ...                  0                    0   \n",
              "3137       90571.0      44549.0  ...                  0                    0   \n",
              "\n",
              "      pendidikan_SMA  pendidikan_SMP  pendidikan_Sarjana  \\\n",
              "2329               0               0                   0   \n",
              "394                0               0                   0   \n",
              "981                0               0                   1   \n",
              "1199               0               0                   1   \n",
              "3137               0               0                   1   \n",
              "\n",
              "      status_pernikahan_Cerai  status_pernikahan_Cerai Mati  \\\n",
              "2329                        1                             0   \n",
              "394                         0                             0   \n",
              "981                         0                             0   \n",
              "1199                        0                             0   \n",
              "3137                        0                             0   \n",
              "\n",
              "      status_pernikahan_Menikah  status_pernikahan_Rencana Menikah  \\\n",
              "2329                          0                                  0   \n",
              "394                           0                                  1   \n",
              "981                           0                                  1   \n",
              "1199                          0                                  0   \n",
              "3137                          1                                  0   \n",
              "\n",
              "      status_pernikahan_Sendiri  \n",
              "2329                          0  \n",
              "394                           0  \n",
              "981                           0  \n",
              "1199                          1  \n",
              "3137                          0  \n",
              "\n",
              "[5 rows x 28 columns]"
            ]
          },
          "execution_count": 282,
          "metadata": {},
          "output_type": "execute_result"
        }
      ],
      "source": [
        "train_set.head()"
      ]
    },
    {
      "cell_type": "code",
      "execution_count": 283,
      "metadata": {
        "colab": {
          "base_uri": "https://localhost:8080/",
          "height": 273
        },
        "id": "aiJ3qZpv47u3",
        "outputId": "05ade2fe-2140-40e3-f038-2dce075a8678"
      },
      "outputs": [
        {
          "data": {
            "text/html": [
              "<div>\n",
              "<style scoped>\n",
              "    .dataframe tbody tr th:only-of-type {\n",
              "        vertical-align: middle;\n",
              "    }\n",
              "\n",
              "    .dataframe tbody tr th {\n",
              "        vertical-align: top;\n",
              "    }\n",
              "\n",
              "    .dataframe thead th {\n",
              "        text-align: right;\n",
              "    }\n",
              "</style>\n",
              "<table border=\"1\" class=\"dataframe\">\n",
              "  <thead>\n",
              "    <tr style=\"text-align: right;\">\n",
              "      <th></th>\n",
              "      <th>ID</th>\n",
              "      <th>tahun_kelahiran</th>\n",
              "      <th>pendapatan</th>\n",
              "      <th>jumlah_anak_balita</th>\n",
              "      <th>jumlah_anak_remaja</th>\n",
              "      <th>terakhir_belanja</th>\n",
              "      <th>belanja_buah</th>\n",
              "      <th>belanja_daging</th>\n",
              "      <th>belanja_ikan</th>\n",
              "      <th>belanja_kue</th>\n",
              "      <th>...</th>\n",
              "      <th>pendidikan_Doktor</th>\n",
              "      <th>pendidikan_Magister</th>\n",
              "      <th>pendidikan_SMA</th>\n",
              "      <th>pendidikan_SMP</th>\n",
              "      <th>pendidikan_Sarjana</th>\n",
              "      <th>status_pernikahan_Cerai</th>\n",
              "      <th>status_pernikahan_Cerai Mati</th>\n",
              "      <th>status_pernikahan_Menikah</th>\n",
              "      <th>status_pernikahan_Rencana Menikah</th>\n",
              "      <th>status_pernikahan_Sendiri</th>\n",
              "    </tr>\n",
              "  </thead>\n",
              "  <tbody>\n",
              "    <tr>\n",
              "      <th>2464</th>\n",
              "      <td>0</td>\n",
              "      <td>1957.0</td>\n",
              "      <td>33742926.0</td>\n",
              "      <td>0.0</td>\n",
              "      <td>0.0</td>\n",
              "      <td>79.0</td>\n",
              "      <td>8109.0</td>\n",
              "      <td>25610.0</td>\n",
              "      <td>8792.0</td>\n",
              "      <td>5398.0</td>\n",
              "      <td>...</td>\n",
              "      <td>0</td>\n",
              "      <td>0</td>\n",
              "      <td>0</td>\n",
              "      <td>0</td>\n",
              "      <td>1</td>\n",
              "      <td>0</td>\n",
              "      <td>0</td>\n",
              "      <td>0</td>\n",
              "      <td>0</td>\n",
              "      <td>1</td>\n",
              "    </tr>\n",
              "    <tr>\n",
              "      <th>480</th>\n",
              "      <td>1</td>\n",
              "      <td>1976.0</td>\n",
              "      <td>140988476.0</td>\n",
              "      <td>0.0</td>\n",
              "      <td>0.0</td>\n",
              "      <td>45.0</td>\n",
              "      <td>102826.0</td>\n",
              "      <td>804331.0</td>\n",
              "      <td>52446.0</td>\n",
              "      <td>44966.0</td>\n",
              "      <td>...</td>\n",
              "      <td>0</td>\n",
              "      <td>0</td>\n",
              "      <td>0</td>\n",
              "      <td>0</td>\n",
              "      <td>1</td>\n",
              "      <td>0</td>\n",
              "      <td>0</td>\n",
              "      <td>0</td>\n",
              "      <td>1</td>\n",
              "      <td>0</td>\n",
              "    </tr>\n",
              "    <tr>\n",
              "      <th>2368</th>\n",
              "      <td>2</td>\n",
              "      <td>1979.0</td>\n",
              "      <td>29604689.0</td>\n",
              "      <td>1.0</td>\n",
              "      <td>0.0</td>\n",
              "      <td>57.0</td>\n",
              "      <td>0.0</td>\n",
              "      <td>6331.0</td>\n",
              "      <td>16100.0</td>\n",
              "      <td>12090.0</td>\n",
              "      <td>...</td>\n",
              "      <td>0</td>\n",
              "      <td>0</td>\n",
              "      <td>0</td>\n",
              "      <td>0</td>\n",
              "      <td>1</td>\n",
              "      <td>0</td>\n",
              "      <td>0</td>\n",
              "      <td>0</td>\n",
              "      <td>0</td>\n",
              "      <td>0</td>\n",
              "    </tr>\n",
              "    <tr>\n",
              "      <th>3457</th>\n",
              "      <td>3</td>\n",
              "      <td>1977.0</td>\n",
              "      <td>118810462.0</td>\n",
              "      <td>0.0</td>\n",
              "      <td>1.0</td>\n",
              "      <td>60.0</td>\n",
              "      <td>30193.0</td>\n",
              "      <td>172971.0</td>\n",
              "      <td>85239.0</td>\n",
              "      <td>72449.0</td>\n",
              "      <td>...</td>\n",
              "      <td>0</td>\n",
              "      <td>0</td>\n",
              "      <td>0</td>\n",
              "      <td>0</td>\n",
              "      <td>1</td>\n",
              "      <td>0</td>\n",
              "      <td>0</td>\n",
              "      <td>0</td>\n",
              "      <td>1</td>\n",
              "      <td>0</td>\n",
              "    </tr>\n",
              "    <tr>\n",
              "      <th>503</th>\n",
              "      <td>4</td>\n",
              "      <td>1972.0</td>\n",
              "      <td>129913133.0</td>\n",
              "      <td>0.0</td>\n",
              "      <td>0.0</td>\n",
              "      <td>49.0</td>\n",
              "      <td>30597.0</td>\n",
              "      <td>551015.0</td>\n",
              "      <td>29839.0</td>\n",
              "      <td>49816.0</td>\n",
              "      <td>...</td>\n",
              "      <td>0</td>\n",
              "      <td>0</td>\n",
              "      <td>0</td>\n",
              "      <td>0</td>\n",
              "      <td>1</td>\n",
              "      <td>0</td>\n",
              "      <td>0</td>\n",
              "      <td>0</td>\n",
              "      <td>0</td>\n",
              "      <td>1</td>\n",
              "    </tr>\n",
              "  </tbody>\n",
              "</table>\n",
              "<p>5 rows × 28 columns</p>\n",
              "</div>"
            ],
            "text/plain": [
              "      ID  tahun_kelahiran   pendapatan  jumlah_anak_balita  \\\n",
              "2464   0           1957.0   33742926.0                 0.0   \n",
              "480    1           1976.0  140988476.0                 0.0   \n",
              "2368   2           1979.0   29604689.0                 1.0   \n",
              "3457   3           1977.0  118810462.0                 0.0   \n",
              "503    4           1972.0  129913133.0                 0.0   \n",
              "\n",
              "      jumlah_anak_remaja  terakhir_belanja  belanja_buah  belanja_daging  \\\n",
              "2464                 0.0              79.0        8109.0         25610.0   \n",
              "480                  0.0              45.0      102826.0        804331.0   \n",
              "2368                 0.0              57.0           0.0          6331.0   \n",
              "3457                 1.0              60.0       30193.0        172971.0   \n",
              "503                  0.0              49.0       30597.0        551015.0   \n",
              "\n",
              "      belanja_ikan  belanja_kue  ...  pendidikan_Doktor  pendidikan_Magister  \\\n",
              "2464        8792.0       5398.0  ...                  0                    0   \n",
              "480        52446.0      44966.0  ...                  0                    0   \n",
              "2368       16100.0      12090.0  ...                  0                    0   \n",
              "3457       85239.0      72449.0  ...                  0                    0   \n",
              "503        29839.0      49816.0  ...                  0                    0   \n",
              "\n",
              "      pendidikan_SMA  pendidikan_SMP  pendidikan_Sarjana  \\\n",
              "2464               0               0                   1   \n",
              "480                0               0                   1   \n",
              "2368               0               0                   1   \n",
              "3457               0               0                   1   \n",
              "503                0               0                   1   \n",
              "\n",
              "      status_pernikahan_Cerai  status_pernikahan_Cerai Mati  \\\n",
              "2464                        0                             0   \n",
              "480                         0                             0   \n",
              "2368                        0                             0   \n",
              "3457                        0                             0   \n",
              "503                         0                             0   \n",
              "\n",
              "      status_pernikahan_Menikah  status_pernikahan_Rencana Menikah  \\\n",
              "2464                          0                                  0   \n",
              "480                           0                                  1   \n",
              "2368                          0                                  0   \n",
              "3457                          0                                  1   \n",
              "503                           0                                  0   \n",
              "\n",
              "      status_pernikahan_Sendiri  \n",
              "2464                          1  \n",
              "480                           0  \n",
              "2368                          0  \n",
              "3457                          0  \n",
              "503                           1  \n",
              "\n",
              "[5 rows x 28 columns]"
            ]
          },
          "execution_count": 283,
          "metadata": {},
          "output_type": "execute_result"
        }
      ],
      "source": [
        "val_set.head()"
      ]
    },
    {
      "cell_type": "markdown",
      "metadata": {
        "id": "NPWEzyRW47u5"
      },
      "source": [
        "Below, we examine each column's correlation to the target variable after preprocessing."
      ]
    },
    {
      "cell_type": "code",
      "execution_count": 284,
      "metadata": {
        "colab": {
          "base_uri": "https://localhost:8080/"
        },
        "id": "0z_XP1IC47u6",
        "outputId": "e8498296-d294-4595-b071-86d7f15ba19c"
      },
      "outputs": [
        {
          "data": {
            "text/plain": [
              "jumlah_promosi                       1.000000\n",
              "pendapatan                           0.253584\n",
              "belanja_daging                       0.238066\n",
              "total_belanja                        0.229431\n",
              "pembelian_web                        0.190209\n",
              "total_pembelian                      0.170798\n",
              "belanja_kue                          0.141961\n",
              "belanja_buah                         0.140944\n",
              "belanja_ikan                         0.103902\n",
              "pendidikan_Magister                  0.094548\n",
              "pembelian_toko                       0.083992\n",
              "status_pernikahan_Rencana Menikah    0.083837\n",
              "pendidikan_Sarjana                   0.064261\n",
              "status_pernikahan_Sendiri            0.048017\n",
              "pembelian_diskon                    -0.029109\n",
              "status_pernikahan_Cerai Mati        -0.033053\n",
              "status_pernikahan_Cerai             -0.055020\n",
              "tahun_kelahiran                     -0.068279\n",
              "keluhan                             -0.075472\n",
              "pendidikan_SMA                      -0.078361\n",
              "status_pernikahan_Menikah           -0.092104\n",
              "pendidikan_Doktor                   -0.097732\n",
              "pendidikan_SMP                      -0.107287\n",
              "terakhir_belanja                    -0.148764\n",
              "jumlah_anak_remaja                  -0.198675\n",
              "jumlah_anak_balita                  -0.203483\n",
              "total_anak                          -0.280919\n",
              "ID                                        NaN\n",
              "Name: jumlah_promosi, dtype: float64"
            ]
          },
          "execution_count": 284,
          "metadata": {},
          "output_type": "execute_result"
        }
      ],
      "source": [
        "train_set.corr()['jumlah_promosi'].sort_values(ascending=False)\n"
      ]
    },
    {
      "cell_type": "markdown",
      "metadata": {
        "id": "dGDg8Y-j47u8"
      },
      "source": [
        "### Apply Resampling\n",
        "Oversampling the data as explained before."
      ]
    },
    {
      "cell_type": "code",
      "execution_count": 285,
      "metadata": {
        "id": "dZV31E4p47u9"
      },
      "outputs": [],
      "source": [
        "# Split predictor and target variable\n",
        "X_train = train_set.drop(['jumlah_promosi'], axis=1)\n",
        "y_train = train_set['jumlah_promosi']"
      ]
    },
    {
      "cell_type": "code",
      "execution_count": 286,
      "metadata": {
        "colab": {
          "base_uri": "https://localhost:8080/",
          "height": 602
        },
        "id": "t4dls5-LOU-D",
        "outputId": "00916d00-2fbb-4921-d682-ee116762e06d"
      },
      "outputs": [
        {
          "name": "stdout",
          "output_type": "stream",
          "text": [
            "0    783\n",
            "5    445\n",
            "1    412\n",
            "4    412\n",
            "3    378\n",
            "2    311\n",
            "6    309\n",
            "Name: jumlah_promosi, dtype: int64\n",
            "\n"
          ]
        },
        {
          "data": {
            "image/png": "[encoded data removed]",
            "text/plain": [
              "<Figure size 432x288 with 1 Axes>"
            ]
          },
          "metadata": {},
          "output_type": "display_data"
        }
      ],
      "source": [
        "plot_classes(train_set['jumlah_promosi'])"
      ]
    },
    {
      "cell_type": "code",
      "execution_count": 287,
      "metadata": {
        "colab": {
          "base_uri": "https://localhost:8080/",
          "height": 602
        },
        "id": "unLs1e7-KdFv",
        "outputId": "b7a04705-8c58-49d6-a9e0-8e44c85005c6"
      },
      "outputs": [
        {
          "name": "stdout",
          "output_type": "stream",
          "text": [
            "0    783\n",
            "5    445\n",
            "1    412\n",
            "4    412\n",
            "3    378\n",
            "2    311\n",
            "6    309\n",
            "Name: jumlah_promosi, dtype: int64\n",
            "\n"
          ]
        },
        {
          "data": {
            "image/png": "[encoded data removed]",
            "text/plain": [
              "<Figure size 432x288 with 1 Axes>"
            ]
          },
          "metadata": {},
          "output_type": "display_data"
        }
      ],
      "source": [
        "plot_classes(y_train)"
      ]
    },
    {
      "cell_type": "code",
      "execution_count": 288,
      "metadata": {
        "id": "0rb3yc_v47vA"
      },
      "outputs": [],
      "source": [
        "# Perform resampling\n",
        "X_train, y_train = balance_classes(X_train, y_train)"
      ]
    },
    {
      "cell_type": "code",
      "execution_count": 289,
      "metadata": {
        "colab": {
          "base_uri": "https://localhost:8080/",
          "height": 602
        },
        "id": "kZtDHBe-47vC",
        "outputId": "a3ef8f9b-977d-4957-dbb0-13e340e528ea"
      },
      "outputs": [
        {
          "name": "stdout",
          "output_type": "stream",
          "text": [
            "3    783\n",
            "6    783\n",
            "2    783\n",
            "5    783\n",
            "1    783\n",
            "4    783\n",
            "0    783\n",
            "Name: jumlah_promosi, dtype: int64\n",
            "\n"
          ]
        },
        {
          "data": {
            "image/png": "[encoded data removed]",
            "text/plain": [
              "<Figure size 432x288 with 1 Axes>"
            ]
          },
          "metadata": {},
          "output_type": "display_data"
        }
      ],
      "source": [
        "# Plot class distribution after resampling\n",
        "plot_classes(y_train)"
      ]
    },
    {
      "cell_type": "code",
      "execution_count": 290,
      "metadata": {
        "id": "Ivyeqjq947vE"
      },
      "outputs": [],
      "source": [
        "# Split predictor and target variable for validation set\n",
        "X_val = val_set.drop(['jumlah_promosi'], axis=1)\n",
        "y_val = val_set['jumlah_promosi']"
      ]
    },
    {
      "cell_type": "code",
      "execution_count": 291,
      "metadata": {
        "colab": {
          "base_uri": "https://localhost:8080/"
        },
        "id": "R0SP3Iq147vF",
        "outputId": "f79ee02e-aa06-49dd-adaf-c6e2759735d1"
      },
      "outputs": [
        {
          "data": {
            "text/plain": [
              "array([[0.00000000e+00, 1.96200000e+03, 1.70435626e+08, ...,\n",
              "        0.00000000e+00, 0.00000000e+00, 0.00000000e+00],\n",
              "       [0.00000000e+00, 1.97300000e+03, 1.71014909e+08, ...,\n",
              "        0.00000000e+00, 1.00000000e+00, 0.00000000e+00],\n",
              "       [0.00000000e+00, 1.95100000e+03, 9.89620000e+07, ...,\n",
              "        0.00000000e+00, 1.00000000e+00, 0.00000000e+00],\n",
              "       ...,\n",
              "       [0.00000000e+00, 1.96724912e+03, 1.71585034e+08, ...,\n",
              "        0.00000000e+00, 0.00000000e+00, 1.00000000e+00],\n",
              "       [0.00000000e+00, 1.97619830e+03, 1.33860763e+08, ...,\n",
              "        0.00000000e+00, 1.00000000e+00, 0.00000000e+00],\n",
              "       [0.00000000e+00, 1.97315198e+03, 5.28258043e+07, ...,\n",
              "        5.37994196e-01, 4.62005804e-01, 0.00000000e+00]])"
            ]
          },
          "execution_count": 291,
          "metadata": {},
          "output_type": "execute_result"
        }
      ],
      "source": [
        "X_train"
      ]
    },
    {
      "cell_type": "code",
      "execution_count": 292,
      "metadata": {
        "colab": {
          "base_uri": "https://localhost:8080/",
          "height": 273
        },
        "id": "nsAi3YM447vJ",
        "outputId": "6becd44d-c90a-476a-9075-7ac6f6d572e1"
      },
      "outputs": [
        {
          "data": {
            "text/html": [
              "<div>\n",
              "<style scoped>\n",
              "    .dataframe tbody tr th:only-of-type {\n",
              "        vertical-align: middle;\n",
              "    }\n",
              "\n",
              "    .dataframe tbody tr th {\n",
              "        vertical-align: top;\n",
              "    }\n",
              "\n",
              "    .dataframe thead th {\n",
              "        text-align: right;\n",
              "    }\n",
              "</style>\n",
              "<table border=\"1\" class=\"dataframe\">\n",
              "  <thead>\n",
              "    <tr style=\"text-align: right;\">\n",
              "      <th></th>\n",
              "      <th>ID</th>\n",
              "      <th>tahun_kelahiran</th>\n",
              "      <th>pendapatan</th>\n",
              "      <th>jumlah_anak_balita</th>\n",
              "      <th>jumlah_anak_remaja</th>\n",
              "      <th>terakhir_belanja</th>\n",
              "      <th>belanja_buah</th>\n",
              "      <th>belanja_daging</th>\n",
              "      <th>belanja_ikan</th>\n",
              "      <th>belanja_kue</th>\n",
              "      <th>...</th>\n",
              "      <th>pendidikan_Doktor</th>\n",
              "      <th>pendidikan_Magister</th>\n",
              "      <th>pendidikan_SMA</th>\n",
              "      <th>pendidikan_SMP</th>\n",
              "      <th>pendidikan_Sarjana</th>\n",
              "      <th>status_pernikahan_Cerai</th>\n",
              "      <th>status_pernikahan_Cerai Mati</th>\n",
              "      <th>status_pernikahan_Menikah</th>\n",
              "      <th>status_pernikahan_Rencana Menikah</th>\n",
              "      <th>status_pernikahan_Sendiri</th>\n",
              "    </tr>\n",
              "  </thead>\n",
              "  <tbody>\n",
              "    <tr>\n",
              "      <th>2464</th>\n",
              "      <td>0</td>\n",
              "      <td>1957.0</td>\n",
              "      <td>33742926.0</td>\n",
              "      <td>0.0</td>\n",
              "      <td>0.0</td>\n",
              "      <td>79.0</td>\n",
              "      <td>8109.0</td>\n",
              "      <td>25610.0</td>\n",
              "      <td>8792.0</td>\n",
              "      <td>5398.0</td>\n",
              "      <td>...</td>\n",
              "      <td>0</td>\n",
              "      <td>0</td>\n",
              "      <td>0</td>\n",
              "      <td>0</td>\n",
              "      <td>1</td>\n",
              "      <td>0</td>\n",
              "      <td>0</td>\n",
              "      <td>0</td>\n",
              "      <td>0</td>\n",
              "      <td>1</td>\n",
              "    </tr>\n",
              "    <tr>\n",
              "      <th>480</th>\n",
              "      <td>1</td>\n",
              "      <td>1976.0</td>\n",
              "      <td>140988476.0</td>\n",
              "      <td>0.0</td>\n",
              "      <td>0.0</td>\n",
              "      <td>45.0</td>\n",
              "      <td>102826.0</td>\n",
              "      <td>804331.0</td>\n",
              "      <td>52446.0</td>\n",
              "      <td>44966.0</td>\n",
              "      <td>...</td>\n",
              "      <td>0</td>\n",
              "      <td>0</td>\n",
              "      <td>0</td>\n",
              "      <td>0</td>\n",
              "      <td>1</td>\n",
              "      <td>0</td>\n",
              "      <td>0</td>\n",
              "      <td>0</td>\n",
              "      <td>1</td>\n",
              "      <td>0</td>\n",
              "    </tr>\n",
              "    <tr>\n",
              "      <th>2368</th>\n",
              "      <td>2</td>\n",
              "      <td>1979.0</td>\n",
              "      <td>29604689.0</td>\n",
              "      <td>1.0</td>\n",
              "      <td>0.0</td>\n",
              "      <td>57.0</td>\n",
              "      <td>0.0</td>\n",
              "      <td>6331.0</td>\n",
              "      <td>16100.0</td>\n",
              "      <td>12090.0</td>\n",
              "      <td>...</td>\n",
              "      <td>0</td>\n",
              "      <td>0</td>\n",
              "      <td>0</td>\n",
              "      <td>0</td>\n",
              "      <td>1</td>\n",
              "      <td>0</td>\n",
              "      <td>0</td>\n",
              "      <td>0</td>\n",
              "      <td>0</td>\n",
              "      <td>0</td>\n",
              "    </tr>\n",
              "    <tr>\n",
              "      <th>3457</th>\n",
              "      <td>3</td>\n",
              "      <td>1977.0</td>\n",
              "      <td>118810462.0</td>\n",
              "      <td>0.0</td>\n",
              "      <td>1.0</td>\n",
              "      <td>60.0</td>\n",
              "      <td>30193.0</td>\n",
              "      <td>172971.0</td>\n",
              "      <td>85239.0</td>\n",
              "      <td>72449.0</td>\n",
              "      <td>...</td>\n",
              "      <td>0</td>\n",
              "      <td>0</td>\n",
              "      <td>0</td>\n",
              "      <td>0</td>\n",
              "      <td>1</td>\n",
              "      <td>0</td>\n",
              "      <td>0</td>\n",
              "      <td>0</td>\n",
              "      <td>1</td>\n",
              "      <td>0</td>\n",
              "    </tr>\n",
              "    <tr>\n",
              "      <th>503</th>\n",
              "      <td>4</td>\n",
              "      <td>1972.0</td>\n",
              "      <td>129913133.0</td>\n",
              "      <td>0.0</td>\n",
              "      <td>0.0</td>\n",
              "      <td>49.0</td>\n",
              "      <td>30597.0</td>\n",
              "      <td>551015.0</td>\n",
              "      <td>29839.0</td>\n",
              "      <td>49816.0</td>\n",
              "      <td>...</td>\n",
              "      <td>0</td>\n",
              "      <td>0</td>\n",
              "      <td>0</td>\n",
              "      <td>0</td>\n",
              "      <td>1</td>\n",
              "      <td>0</td>\n",
              "      <td>0</td>\n",
              "      <td>0</td>\n",
              "      <td>0</td>\n",
              "      <td>1</td>\n",
              "    </tr>\n",
              "  </tbody>\n",
              "</table>\n",
              "<p>5 rows × 27 columns</p>\n",
              "</div>"
            ],
            "text/plain": [
              "      ID  tahun_kelahiran   pendapatan  jumlah_anak_balita  \\\n",
              "2464   0           1957.0   33742926.0                 0.0   \n",
              "480    1           1976.0  140988476.0                 0.0   \n",
              "2368   2           1979.0   29604689.0                 1.0   \n",
              "3457   3           1977.0  118810462.0                 0.0   \n",
              "503    4           1972.0  129913133.0                 0.0   \n",
              "\n",
              "      jumlah_anak_remaja  terakhir_belanja  belanja_buah  belanja_daging  \\\n",
              "2464                 0.0              79.0        8109.0         25610.0   \n",
              "480                  0.0              45.0      102826.0        804331.0   \n",
              "2368                 0.0              57.0           0.0          6331.0   \n",
              "3457                 1.0              60.0       30193.0        172971.0   \n",
              "503                  0.0              49.0       30597.0        551015.0   \n",
              "\n",
              "      belanja_ikan  belanja_kue  ...  pendidikan_Doktor  pendidikan_Magister  \\\n",
              "2464        8792.0       5398.0  ...                  0                    0   \n",
              "480        52446.0      44966.0  ...                  0                    0   \n",
              "2368       16100.0      12090.0  ...                  0                    0   \n",
              "3457       85239.0      72449.0  ...                  0                    0   \n",
              "503        29839.0      49816.0  ...                  0                    0   \n",
              "\n",
              "      pendidikan_SMA  pendidikan_SMP  pendidikan_Sarjana  \\\n",
              "2464               0               0                   1   \n",
              "480                0               0                   1   \n",
              "2368               0               0                   1   \n",
              "3457               0               0                   1   \n",
              "503                0               0                   1   \n",
              "\n",
              "      status_pernikahan_Cerai  status_pernikahan_Cerai Mati  \\\n",
              "2464                        0                             0   \n",
              "480                         0                             0   \n",
              "2368                        0                             0   \n",
              "3457                        0                             0   \n",
              "503                         0                             0   \n",
              "\n",
              "      status_pernikahan_Menikah  status_pernikahan_Rencana Menikah  \\\n",
              "2464                          0                                  0   \n",
              "480                           0                                  1   \n",
              "2368                          0                                  0   \n",
              "3457                          0                                  1   \n",
              "503                           0                                  0   \n",
              "\n",
              "      status_pernikahan_Sendiri  \n",
              "2464                          1  \n",
              "480                           0  \n",
              "2368                          0  \n",
              "3457                          0  \n",
              "503                           1  \n",
              "\n",
              "[5 rows x 27 columns]"
            ]
          },
          "execution_count": 292,
          "metadata": {},
          "output_type": "execute_result"
        }
      ],
      "source": [
        "X_val.head()"
      ]
    },
    {
      "cell_type": "markdown",
      "metadata": {
        "id": "cgFGn8wd47vK"
      },
      "source": [
        "### Implement Classifiers¶\n",
        "In this section, we will implement classifiers to train on."
      ]
    },
    {
      "cell_type": "code",
      "execution_count": 293,
      "metadata": {
        "id": "n9WsKDb8J9xd"
      },
      "outputs": [],
      "source": [
        "# !pip install catboost"
      ]
    },
    {
      "cell_type": "code",
      "execution_count": 294,
      "metadata": {
        "id": "e_bu49GH47vL"
      },
      "outputs": [],
      "source": [
        "from sklearn.ensemble import RandomForestClassifier, StackingClassifier, VotingClassifier\n",
        "from lightgbm import LGBMClassifier\n",
        "from sklearn.linear_model import LogisticRegression\n",
        "from sklearn.ensemble import GradientBoostingClassifier\n",
        "from sklearn.svm import SVC\n",
        "\n",
        "def train_clf(X_train, y_train, **kwargs):\n",
        "    rfc = RandomForestClassifier( random_state=42, n_jobs=-1, **kwargs)\n",
        "    lgbm = LGBMClassifier(random_state=42, learning_rate=0.25)\n",
        "    \n",
        "    # Create the StackingClassifier with a Logistic Regression final estimator\n",
        "    stacked_classifier = StackingClassifier(\n",
        "        estimators=[\n",
        "            ('rfc', rfc),\n",
        "            ('lgbm', lgbm),\n",
        "        ],\n",
        "        final_estimator=LogisticRegression(),\n",
        "        cv=5,  # Number of cross-validation folds\n",
        "        n_jobs=-1\n",
        "    )\n",
        "\n",
        "    stacked_classifier.fit(X_train, y_train)\n",
        "\n",
        "    return stacked_classifier"
      ]
    },
    {
      "cell_type": "markdown",
      "metadata": {
        "id": "vV6S-IsN47vV"
      },
      "source": [
        "I have experimented with different classifiers, including Random Forest, XGBoost, CatBoost, and Ensemble Methods. Based on my previous trials, the Stacking model has shown the best performance across all scoring metrics. Therefore, we will focus solely on building and tuning the Stacking model for the remainder of this project to save time and computational resources."
      ]
    },
    {
      "cell_type": "markdown",
      "metadata": {
        "id": "MJDB69YO47vY"
      },
      "source": [
        "### Evaluation¶\n",
        "In this section, we will evaluate the performance of our classifier on the training and validation set."
      ]
    },
    {
      "cell_type": "markdown",
      "metadata": {
        "id": "_Z_4mn7o47va"
      },
      "source": [
        "### Training Set Score"
      ]
    },
    {
      "cell_type": "code",
      "execution_count": 295,
      "metadata": {
        "id": "rtTXiF3X47vc"
      },
      "outputs": [],
      "source": [
        "from sklearn.metrics import accuracy_score, precision_score, recall_score, f1_score\n",
        "from sklearn.metrics import classification_report"
      ]
    },
    {
      "cell_type": "markdown",
      "metadata": {
        "id": "TYCR0Jzw47vf"
      },
      "source": [
        "### Validation Set Score¶"
      ]
    },
    {
      "cell_type": "markdown",
      "metadata": {
        "id": "kwawaQAi47vy"
      },
      "source": [
        "### Prepare the Full Training Set¶\n",
        "In this section, we will pass down the whole training set through the preprocessing pipeline and training the models on the entire resampled training set."
      ]
    },
    {
      "cell_type": "code",
      "execution_count": 296,
      "metadata": {
        "id": "A-pPlIOE47v0"
      },
      "outputs": [],
      "source": [
        "# Create new pipeline object to fit on the original training set\n",
        "pipeline_c = Pipeline([(\"imputer\", FeatureImputer()),\n",
        "                    (\"encoder\", FeatureEncoder())])\n",
        "\n",
        "pipeline_r = Pipeline([(\"imputer\", FeatureImputer()),\n",
        "                    (\"encoder\", FeatureEncoder())])"
      ]
    },
    {
      "cell_type": "markdown",
      "metadata": {
        "id": "CdAKxGCk47v1"
      },
      "source": [
        "### Final Strategy¶\n",
        "We will preprocess the dataset separately for each hotel types. The machine learning model will also be trained on each of the segregated dataset."
      ]
    },
    {
      "cell_type": "code",
      "execution_count": 297,
      "metadata": {
        "id": "YY03LVvP47v7"
      },
      "outputs": [],
      "source": [
        "# kucing 1\n",
        "# Retrieve original training set\n",
        "# Split based on 'pendidikan' that has ['SMA', 'SMP', 'Sarjana', 'Magister', 'Doctor']\n",
        "\n",
        "final_train = train_set\n",
        "\n",
        "train_all = final_train\n",
        "\n",
        "test_all = test_set\n",
        "test_val = val_set\n",
        "\n",
        "# Fit pipeline on test set\n",
        "test_all = pipeline_r.fit_transform(test_all)\n",
        "\n",
        "# match the column\n",
        "train_all = match_columns(train_set, train_all)\n",
        "\n",
        "# match the column on test\n",
        "test_all = match_columns(train_set, test_all)\n",
        "test_val = match_columns(train_set, test_val)\n",
        "\n",
        "\n",
        "X_train_all = train_all.drop(['jumlah_promosi'], axis = 1)\n",
        "y_train_all = train_all['jumlah_promosi']\n"
      ]
    },
    {
      "cell_type": "code",
      "execution_count": 298,
      "metadata": {
        "id": "NiehzpEH47v_"
      },
      "outputs": [],
      "source": [
        "# Handle imbalances\n",
        "X_train_all, y_train_all = balance_classes(X_train_all , y_train_all)\n"
      ]
    },
    {
      "cell_type": "markdown",
      "metadata": {
        "id": "wr0K0feO47wB"
      },
      "source": [
        "### Cross Validation¶\n",
        "In this section, we will perform a 5-fold cross validation on the training set."
      ]
    },
    {
      "cell_type": "code",
      "execution_count": 299,
      "metadata": {
        "id": "CpLSKCVF47wC"
      },
      "outputs": [],
      "source": [
        "from sklearn.model_selection import StratifiedKFold\n",
        "\n",
        "def evaluate_model(train_func, X, y, average, **params):\n",
        "    cv = StratifiedKFold(n_splits=5, shuffle=True, random_state=42)\n",
        "    acc = 0\n",
        "    prec = 0\n",
        "    rec = 0\n",
        "    f1 = 0\n",
        "\n",
        "    for i, (train_idx, test_idx) in enumerate(cv.split(X, y)):\n",
        "        X_train, X_test = X[train_idx], X[test_idx]\n",
        "        y_train, y_test = y[train_idx], y[test_idx]\n",
        "\n",
        "        # Apply resampling\n",
        "        X_train_res, y_train_res = balance_classes(X_train, y_train)\n",
        "\n",
        "        # Train and predict on the test data\n",
        "        clf = train_func(X_train_res, y_train_res, **params)\n",
        "        y_pred = clf.predict(X_test)\n",
        "        print(f\"Fold {i+1}\")\n",
        "        print(f\"Accuracy: {accuracy_score(y_test, y_pred)}\")\n",
        "        print(f\"Precision: {precision_score(y_test, y_pred, average=average)}\")\n",
        "        print(f\"Recall: {recall_score(y_test, y_pred, average=average)}\")\n",
        "        print(f\"F1-score: {f1_score(y_test, y_pred, average=average)}\")\n",
        "        print()\n",
        "\n",
        "        acc += accuracy_score(y_test, y_pred)\n",
        "        prec += precision_score(y_test, y_pred, average=average)\n",
        "        rec += recall_score(y_test, y_pred, average=average)\n",
        "        f1 += f1_score(y_test, y_pred, average=average)\n",
        "\n",
        "    print(\"Averages\")\n",
        "    print(f\"Accuracy: {acc / 5}\")\n",
        "    print(f\"Precision: {prec / 5}\")\n",
        "    print(f\"Recall: {rec / 5}\")\n",
        "    print(f\"F1-score: {f1 / 5}\")\n",
        "    print()\n"
      ]
    },
    {
      "cell_type": "markdown",
      "metadata": {
        "id": "Dtv0J0qZ47wH"
      },
      "source": [
        "Cross Validation is done out of this notebook as it is computationally expensive with the current model.\n",
        "\n",
        "Based on the provided performance metrics for a cross-validation on the model, the average accuracy achieved is 0.8544. Meanwhile the average precision and recall scores achieved were 0.856 and 0.85, respectively, while the average F1-score is 0.85. These metrics suggest that the model is performing reasonably well, but there may be room for improvement."
      ]
    },
    {
      "cell_type": "markdown",
      "metadata": {
        "id": "5ZkXowBl47wI"
      },
      "source": [
        "## Train Classifier on Each Training Set¶\n",
        "Fitting the base classifier to the training set for both city and resort hotel types."
      ]
    },
    {
      "cell_type": "code",
      "execution_count": 300,
      "metadata": {
        "colab": {
          "base_uri": "https://localhost:8080/"
        },
        "id": "QROcKKXs47wI",
        "outputId": "e023c593-11e7-4bac-b5ff-bfc7ae725248"
      },
      "outputs": [],
      "source": [
        "# kucing 4\n",
        "# Train Classifier\n",
        "params = {'class_weight': 'balanced'}\n",
        "clf_all = train_clf(X_train_all, y_train_all, **params)"
      ]
    },
    {
      "cell_type": "markdown",
      "metadata": {
        "id": "yGMrjcp347wX"
      },
      "source": [
        "### Analyze Feature Importance¶\n",
        "In this section, we will analyze feature importance for the trained classifier."
      ]
    },
    {
      "cell_type": "code",
      "execution_count": 301,
      "metadata": {
        "id": "KHecpkMR47wY"
      },
      "outputs": [],
      "source": [
        "def plot_feature_importance(importance, names, model_type):\n",
        "    # Create arrays from feature importance and feature names\n",
        "    feature_importance = np.array(importance)\n",
        "    feature_names = np.array(names)\n",
        "\n",
        "    # Create a DataFrame using a dictionary\n",
        "    data = {'feature_names': feature_names, 'feature_importance': feature_importance}\n",
        "    fi_df = pd.DataFrame(data)\n",
        "\n",
        "    # Sort the DataFrame in descending order of feature importance\n",
        "    fi_df.sort_values(by=['feature_importance'], ascending=False, inplace=True)\n",
        "\n",
        "    # Select the top ten most significant features\n",
        "    fi_df = fi_df.head(10)\n",
        "\n",
        "    # Define plot style\n",
        "    sns.set(style=\"whitegrid\")\n",
        "\n",
        "    # Plot feature importance\n",
        "    fig, ax = plt.subplots(figsize=(10, 6))\n",
        "    sns.barplot(x=fi_df.feature_importance, y=fi_df.feature_names, palette=\"rocket\")\n",
        "    plt.title(f\"{model_type} Feature Importance\")\n",
        "    plt.xlabel(\"Importance\")\n",
        "    plt.ylabel(\"Feature\")\n",
        "    plt.show()"
      ]
    },
    {
      "cell_type": "markdown",
      "metadata": {
        "id": "u3QU8npq47xO"
      },
      "source": [
        "### Predict\n",
        "Making a prediction based on the trained classifier and the preprocessed test set."
      ]
    },
    {
      "cell_type": "code",
      "execution_count": 302,
      "metadata": {
        "colab": {
          "base_uri": "https://localhost:8080/"
        },
        "id": "R9SIelNq47xQ",
        "outputId": "306db73c-175b-435f-b195-c4f1418740a4"
      },
      "outputs": [
        {
          "name": "stderr",
          "output_type": "stream",
          "text": [
            "c:\\Users\\amjad\\AppData\\Local\\Programs\\Python\\Python39\\lib\\site-packages\\sklearn\\base.py:486: UserWarning: X has feature names, but RandomForestClassifier was fitted without feature names\n",
            "  warnings.warn(\n",
            "c:\\Users\\amjad\\AppData\\Local\\Programs\\Python\\Python39\\lib\\site-packages\\sklearn\\base.py:486: UserWarning: X has feature names, but RandomForestClassifier was fitted without feature names\n",
            "  warnings.warn(\n"
          ]
        },
        {
          "name": "stdout",
          "output_type": "stream",
          "text": [
            "StackingClassifier Validation Set Score\n",
            "\n",
            "              precision    recall  f1-score   support\n",
            "\n",
            "           0       0.66      0.82      0.73       197\n",
            "           1       0.67      0.49      0.56       103\n",
            "           2       0.72      0.69      0.71        78\n",
            "           3       0.92      0.90      0.91        94\n",
            "           4       0.95      0.87      0.91       103\n",
            "           5       0.87      0.92      0.90       112\n",
            "           6       0.90      0.74      0.81        77\n",
            "\n",
            "    accuracy                           0.79       764\n",
            "   macro avg       0.81      0.78      0.79       764\n",
            "weighted avg       0.79      0.79      0.78       764\n",
            "\n"
          ]
        }
      ],
      "source": [
        "# kucing 5\n",
        "y_test_val = test_val['jumlah_promosi']\n",
        "\n",
        "test_all.drop('jumlah_promosi', axis = 1, inplace=True)\n",
        "test_val.drop('jumlah_promosi', axis = 1, inplace=True)\n",
        "\n",
        "all_test_id = test_all['ID']\n",
        "val_test_id = test_val['ID']\n",
        "\n",
        "y_pred_all = clf_all.predict(test_all)\n",
        "y_pred_val = clf_all.predict(test_val)\n",
        "\n",
        "print(f\"{clf_all.__class__.__name__} Validation Set Score\")\n",
        "print()\n",
        "print(classification_report(y_test_val, y_pred_val))"
      ]
    },
    {
      "cell_type": "code",
      "execution_count": 303,
      "metadata": {
        "id": "ZuIsVRnj47xT"
      },
      "outputs": [],
      "source": [
        "final_df_all = pd.DataFrame(all_test_id)\n",
        "final_df_val = pd.DataFrame(val_test_id)\n",
        "\n",
        "final_df_all['jumlah_promosi'] = y_pred_all\n",
        "final_df_val['jumlah_promosi'] = y_pred_val"
      ]
    },
    {
      "cell_type": "code",
      "execution_count": 304,
      "metadata": {
        "colab": {
          "base_uri": "https://localhost:8080/",
          "height": 423
        },
        "id": "rkeL5lZS47xV",
        "outputId": "7db240db-cd3a-4414-893e-08d6bddb6163"
      },
      "outputs": [
        {
          "data": {
            "text/html": [
              "<div>\n",
              "<style scoped>\n",
              "    .dataframe tbody tr th:only-of-type {\n",
              "        vertical-align: middle;\n",
              "    }\n",
              "\n",
              "    .dataframe tbody tr th {\n",
              "        vertical-align: top;\n",
              "    }\n",
              "\n",
              "    .dataframe thead th {\n",
              "        text-align: right;\n",
              "    }\n",
              "</style>\n",
              "<table border=\"1\" class=\"dataframe\">\n",
              "  <thead>\n",
              "    <tr style=\"text-align: right;\">\n",
              "      <th></th>\n",
              "      <th>ID</th>\n",
              "      <th>jumlah_promosi</th>\n",
              "    </tr>\n",
              "  </thead>\n",
              "  <tbody>\n",
              "    <tr>\n",
              "      <th>0</th>\n",
              "      <td>2241</td>\n",
              "      <td>0</td>\n",
              "    </tr>\n",
              "    <tr>\n",
              "      <th>1</th>\n",
              "      <td>2274</td>\n",
              "      <td>0</td>\n",
              "    </tr>\n",
              "    <tr>\n",
              "      <th>2</th>\n",
              "      <td>1107</td>\n",
              "      <td>2</td>\n",
              "    </tr>\n",
              "    <tr>\n",
              "      <th>3</th>\n",
              "      <td>4478</td>\n",
              "      <td>0</td>\n",
              "    </tr>\n",
              "    <tr>\n",
              "      <th>4</th>\n",
              "      <td>5080</td>\n",
              "      <td>4</td>\n",
              "    </tr>\n",
              "    <tr>\n",
              "      <th>...</th>\n",
              "      <td>...</td>\n",
              "      <td>...</td>\n",
              "    </tr>\n",
              "    <tr>\n",
              "      <th>3813</th>\n",
              "      <td>271</td>\n",
              "      <td>0</td>\n",
              "    </tr>\n",
              "    <tr>\n",
              "      <th>3814</th>\n",
              "      <td>3334</td>\n",
              "      <td>1</td>\n",
              "    </tr>\n",
              "    <tr>\n",
              "      <th>3815</th>\n",
              "      <td>3478</td>\n",
              "      <td>1</td>\n",
              "    </tr>\n",
              "    <tr>\n",
              "      <th>3816</th>\n",
              "      <td>89</td>\n",
              "      <td>0</td>\n",
              "    </tr>\n",
              "    <tr>\n",
              "      <th>3817</th>\n",
              "      <td>2151</td>\n",
              "      <td>0</td>\n",
              "    </tr>\n",
              "  </tbody>\n",
              "</table>\n",
              "<p>3818 rows × 2 columns</p>\n",
              "</div>"
            ],
            "text/plain": [
              "        ID  jumlah_promosi\n",
              "0     2241               0\n",
              "1     2274               0\n",
              "2     1107               2\n",
              "3     4478               0\n",
              "4     5080               4\n",
              "...    ...             ...\n",
              "3813   271               0\n",
              "3814  3334               1\n",
              "3815  3478               1\n",
              "3816    89               0\n",
              "3817  2151               0\n",
              "\n",
              "[3818 rows x 2 columns]"
            ]
          },
          "execution_count": 304,
          "metadata": {},
          "output_type": "execute_result"
        }
      ],
      "source": [
        "final_df_all"
      ]
    },
    {
      "cell_type": "code",
      "execution_count": 305,
      "metadata": {
        "id": "rIZs4xDG47xa"
      },
      "outputs": [],
      "source": [
        "final_df = final_df_all"
      ]
    },
    {
      "cell_type": "code",
      "execution_count": 306,
      "metadata": {
        "id": "wY3QlD6J47xb"
      },
      "outputs": [],
      "source": [
        "final_df.to_csv('submission_athhh1.csv', index=False)"
      ]
    }
  ],
  "metadata": {
    "colab": {
      "provenance": []
    },
    "kernelspec": {
      "display_name": "Python 3",
      "language": "python",
      "name": "python3"
    },
    "language_info": {
      "codemirror_mode": {
        "name": "ipython",
        "version": 3
      },
      "file_extension": ".py",
      "mimetype": "text/x-python",
      "name": "python",
      "nbconvert_exporter": "python",
      "pygments_lexer": "ipython3",
      "version": "3.9.7"
    }
  },
  "nbformat": 4,
  "nbformat_minor": 0
}
